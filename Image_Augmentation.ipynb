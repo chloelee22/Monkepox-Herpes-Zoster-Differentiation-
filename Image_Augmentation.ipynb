{
  "nbformat": 4,
  "nbformat_minor": 0,
  "metadata": {
    "colab": {
      "provenance": []
    },
    "kernelspec": {
      "name": "python3",
      "display_name": "Python 3"
    },
    "language_info": {
      "name": "python"
    }
  },
  "cells": [
    {
      "cell_type": "code",
      "source": [
        "from google.colab import drive\n",
        "drive.mount('/content/drive')"
      ],
      "metadata": {
        "colab": {
          "base_uri": "https://localhost:8080/"
        },
        "id": "zLmcP2GP8MAb",
        "outputId": "fd09cecf-57f8-4233-83da-867316904f10"
      },
      "execution_count": null,
      "outputs": [
        {
          "output_type": "stream",
          "name": "stdout",
          "text": [
            "Mounted at /content/drive\n"
          ]
        }
      ]
    },
    {
      "cell_type": "code",
      "source": [
        "pip install Augmentor"
      ],
      "metadata": {
        "colab": {
          "base_uri": "https://localhost:8080/"
        },
        "id": "guUbXySV8PCY",
        "outputId": "6222d05f-bd8e-44a5-80f8-80d1720b2d6f"
      },
      "execution_count": null,
      "outputs": [
        {
          "output_type": "stream",
          "name": "stdout",
          "text": [
            "Looking in indexes: https://pypi.org/simple, https://us-python.pkg.dev/colab-wheels/public/simple/\n",
            "Collecting Augmentor\n",
            "  Downloading Augmentor-0.2.10-py2.py3-none-any.whl (38 kB)\n",
            "Requirement already satisfied: Pillow>=5.2.0 in /usr/local/lib/python3.8/dist-packages (from Augmentor) (7.1.2)\n",
            "Requirement already satisfied: tqdm>=4.9.0 in /usr/local/lib/python3.8/dist-packages (from Augmentor) (4.64.1)\n",
            "Requirement already satisfied: future>=0.16.0 in /usr/local/lib/python3.8/dist-packages (from Augmentor) (0.16.0)\n",
            "Requirement already satisfied: numpy>=1.11.0 in /usr/local/lib/python3.8/dist-packages (from Augmentor) (1.21.6)\n",
            "Installing collected packages: Augmentor\n",
            "Successfully installed Augmentor-0.2.10\n"
          ]
        }
      ]
    },
    {
      "cell_type": "code",
      "execution_count": null,
      "metadata": {
        "id": "Oa7V9tUj8Eh7"
      },
      "outputs": [],
      "source": [
        "import Augmentor"
      ]
    },
    {
      "cell_type": "code",
      "source": [
        "path_to_data = \"/content/drive/MyDrive/SplitImages/train\""
      ],
      "metadata": {
        "id": "B_Cdz8Yb8bAK"
      },
      "execution_count": null,
      "outputs": []
    },
    {
      "cell_type": "code",
      "source": [
        "p = Augmentor.Pipeline(path_to_data)"
      ],
      "metadata": {
        "colab": {
          "base_uri": "https://localhost:8080/"
        },
        "id": "FO_MV1YZ_sEf",
        "outputId": "4ddc4652-a44c-4e85-bcdf-622572f2bf70"
      },
      "execution_count": null,
      "outputs": [
        {
          "output_type": "stream",
          "name": "stdout",
          "text": [
            "Initialised with 197 image(s) found.\n",
            "Output directory set to /content/drive/MyDrive/SplitImages/train/output."
          ]
        }
      ]
    },
    {
      "cell_type": "code",
      "source": [
        "p.skew_tilt(probability=1.0)"
      ],
      "metadata": {
        "id": "esthRUeh8k0i"
      },
      "execution_count": null,
      "outputs": []
    },
    {
      "cell_type": "code",
      "source": [
        "p.rotate_random_90(probability=1.0)"
      ],
      "metadata": {
        "id": "s_q1jVGeGQ4v"
      },
      "execution_count": null,
      "outputs": []
    },
    {
      "cell_type": "code",
      "source": [
        "p.random_distortion(probability=1.0, grid_width=4, grid_height=4,magnitude=6)"
      ],
      "metadata": {
        "id": "UWts7NYBKXg_"
      },
      "execution_count": null,
      "outputs": []
    },
    {
      "cell_type": "code",
      "source": [
        "p.shear(probability=1.0,max_shear_left=20, max_shear_right=20)"
      ],
      "metadata": {
        "id": "LBckTdSROhGi"
      },
      "execution_count": null,
      "outputs": []
    },
    {
      "cell_type": "code",
      "source": [
        "p.gaussian_distortion(probability=1.0, grid_width=8, grid_height=8, magnitude=2, corner=\"dl\", method=\"in\", mex=0.5, mey=0.5, sdx=0.05, sdy=0.05)\n",
        "p.invert(probability=1.0)"
      ],
      "metadata": {
        "id": "a1UnuPSlVj2k"
      },
      "execution_count": null,
      "outputs": []
    },
    {
      "cell_type": "code",
      "source": [
        "p.crop_centre(probability=1.0, percentage_area=0.5, randomise_percentage_area=False)"
      ],
      "metadata": {
        "id": "0awf0EkEWPwr"
      },
      "execution_count": null,
      "outputs": []
    },
    {
      "cell_type": "code",
      "source": [
        "p.invert(probability=1.0)"
      ],
      "metadata": {
        "id": "cFB9qhOWYi3g"
      },
      "execution_count": null,
      "outputs": []
    },
    {
      "cell_type": "code",
      "source": [
        "p.random_contrast(probability=1.0, min_factor=0.8, max_factor=1.25)"
      ],
      "metadata": {
        "id": "oSBZWguBMHG7"
      },
      "execution_count": null,
      "outputs": []
    },
    {
      "cell_type": "code",
      "source": [
        "p.random_brightness(probability=1.0, min_factor=0.8, max_factor=1.25)"
      ],
      "metadata": {
        "id": "UHkebEM_QM72"
      },
      "execution_count": null,
      "outputs": []
    },
    {
      "cell_type": "code",
      "source": [
        "p.random_color(probability=1.0, min_factor=0.8, max_factor=1.2)"
      ],
      "metadata": {
        "id": "ElPk744AT6Pt"
      },
      "execution_count": null,
      "outputs": []
    },
    {
      "cell_type": "code",
      "source": [
        "p.skew_corner(probability=1.0, magnitude=0.5)"
      ],
      "metadata": {
        "id": "-RWtGhqnYvzV"
      },
      "execution_count": null,
      "outputs": []
    },
    {
      "cell_type": "code",
      "source": [
        "p.flip_random(probability=1.0)"
      ],
      "metadata": {
        "id": "3wLf7sqpP8M_"
      },
      "execution_count": null,
      "outputs": []
    },
    {
      "cell_type": "code",
      "source": [
        "num_of_samples = int(197)\n",
        "p.sample(num_of_samples)"
      ],
      "metadata": {
        "colab": {
          "base_uri": "https://localhost:8080/"
        },
        "id": "EkXE2JS-_qWB",
        "outputId": "a770a031-9d5e-4629-f65d-5f7cd9c7ae6e"
      },
      "execution_count": null,
      "outputs": [
        {
          "output_type": "stream",
          "name": "stderr",
          "text": [
            "Processing <PIL.Image.Image image mode=RGB size=224x224 at 0x7F54C6760C10>: 100%|██████████| 197/197 [00:03<00:00, 50.40 Samples/s]\n"
          ]
        }
      ]
    },
    {
      "cell_type": "code",
      "source": [
        "import os\n",
        "\n",
        "lst = os.listdir('/content/drive/MyDrive/SplitImages/train/Monkeypox Images Phase 2') # your directory path\n",
        "number_files = len(lst)\n",
        "print (number_files)"
      ],
      "metadata": {
        "colab": {
          "base_uri": "https://localhost:8080/",
          "height": 240
        },
        "id": "8Z0m_rVyPLRB",
        "outputId": "9ce94542-2b9e-4486-cfc5-c73e796c95c3"
      },
      "execution_count": null,
      "outputs": [
        {
          "output_type": "error",
          "ename": "KeyboardInterrupt",
          "evalue": "ignored",
          "traceback": [
            "\u001b[0;31m---------------------------------------------------------------------------\u001b[0m",
            "\u001b[0;31mKeyboardInterrupt\u001b[0m                         Traceback (most recent call last)",
            "\u001b[0;32m<ipython-input-25-bbe6c73fdc30>\u001b[0m in \u001b[0;36m<module>\u001b[0;34m\u001b[0m\n\u001b[1;32m      1\u001b[0m \u001b[0;32mimport\u001b[0m \u001b[0mos\u001b[0m\u001b[0;34m\u001b[0m\u001b[0;34m\u001b[0m\u001b[0m\n\u001b[1;32m      2\u001b[0m \u001b[0;34m\u001b[0m\u001b[0m\n\u001b[0;32m----> 3\u001b[0;31m \u001b[0mlst\u001b[0m \u001b[0;34m=\u001b[0m \u001b[0mos\u001b[0m\u001b[0;34m.\u001b[0m\u001b[0mlistdir\u001b[0m\u001b[0;34m(\u001b[0m\u001b[0;34m'/content/drive/MyDrive/SplitImages/train/Monkeypox Images Phase 2'\u001b[0m\u001b[0;34m)\u001b[0m \u001b[0;31m# your directory path\u001b[0m\u001b[0;34m\u001b[0m\u001b[0;34m\u001b[0m\u001b[0m\n\u001b[0m\u001b[1;32m      4\u001b[0m \u001b[0mnumber_files\u001b[0m \u001b[0;34m=\u001b[0m \u001b[0mlen\u001b[0m\u001b[0;34m(\u001b[0m\u001b[0mlst\u001b[0m\u001b[0;34m)\u001b[0m\u001b[0;34m\u001b[0m\u001b[0;34m\u001b[0m\u001b[0m\n\u001b[1;32m      5\u001b[0m \u001b[0mprint\u001b[0m \u001b[0;34m(\u001b[0m\u001b[0mnumber_files\u001b[0m\u001b[0;34m)\u001b[0m\u001b[0;34m\u001b[0m\u001b[0;34m\u001b[0m\u001b[0m\n",
            "\u001b[0;31mKeyboardInterrupt\u001b[0m: "
          ]
        }
      ]
    },
    {
      "cell_type": "code",
      "source": [
        "path_to_data = \"/content/drive/MyDrive/SplitImages/val\""
      ],
      "metadata": {
        "id": "ePaphh8cvsrZ"
      },
      "execution_count": null,
      "outputs": []
    },
    {
      "cell_type": "code",
      "source": [
        "p = Augmentor.Pipeline(path_to_data)"
      ],
      "metadata": {
        "colab": {
          "base_uri": "https://localhost:8080/"
        },
        "id": "XVEjNR8Hv4bO",
        "outputId": "88695f72-56c2-43e0-a456-67f8a104081b"
      },
      "execution_count": null,
      "outputs": [
        {
          "output_type": "stream",
          "name": "stdout",
          "text": [
            "Initialised with 42 image(s) found.\n",
            "Output directory set to /content/drive/MyDrive/SplitImages/val/output."
          ]
        }
      ]
    },
    {
      "cell_type": "code",
      "source": [
        "p.rotate_random_90(probability=1.0)"
      ],
      "metadata": {
        "id": "IoYlwcj6wJFW"
      },
      "execution_count": null,
      "outputs": []
    },
    {
      "cell_type": "code",
      "source": [
        "p.flip_random(probability=1.0)"
      ],
      "metadata": {
        "id": "2-hDnrhAwVLR"
      },
      "execution_count": null,
      "outputs": []
    },
    {
      "cell_type": "code",
      "source": [
        "p.shear(probability=1.0,max_shear_left=20, max_shear_right=20)"
      ],
      "metadata": {
        "id": "3yJJBicbwagb"
      },
      "execution_count": null,
      "outputs": []
    },
    {
      "cell_type": "code",
      "source": [
        "p.crop_centre(probability=1.0, percentage_area=0.5, randomise_percentage_area=False)"
      ],
      "metadata": {
        "id": "fidaeoHsqYNA"
      },
      "execution_count": null,
      "outputs": []
    },
    {
      "cell_type": "code",
      "source": [
        "num_of_samples = int(42)\n",
        "p.sample(num_of_samples)"
      ],
      "metadata": {
        "colab": {
          "base_uri": "https://localhost:8080/"
        },
        "id": "vfUCdhvBw9AU",
        "outputId": "0bfb89f1-3417-4b79-f8bf-f89df0aaddc6"
      },
      "execution_count": null,
      "outputs": [
        {
          "output_type": "stream",
          "name": "stderr",
          "text": [
            "Processing <PIL.Image.Image image mode=RGB size=112x112 at 0x7F25A021F5B0>: 100%|██████████| 42/42 [00:00<00:00, 50.11 Samples/s]\n"
          ]
        }
      ]
    },
    {
      "cell_type": "code",
      "source": [
        "import os\n",
        "\n",
        "lst = os.listdir('/content/drive/MyDrive/SplitImages/val/HZVFinal') # your directory path\n",
        "number_files = len(lst)\n",
        "print (number_files)"
      ],
      "metadata": {
        "colab": {
          "base_uri": "https://localhost:8080/"
        },
        "id": "Z7NSh0ZDxaGy",
        "outputId": "4550ba1f-0d6b-455b-ef86-b7b2c7b0afd8"
      },
      "execution_count": null,
      "outputs": [
        {
          "output_type": "stream",
          "name": "stdout",
          "text": [
            "19\n"
          ]
        }
      ]
    },
    {
      "cell_type": "code",
      "source": [
        "lst = os.listdir('/content/drive/MyDrive/SplitImages/val/Monkeypox Images Phase 2') # your directory path\n",
        "number_files = len(lst)\n",
        "print (number_files)"
      ],
      "metadata": {
        "colab": {
          "base_uri": "https://localhost:8080/"
        },
        "id": "qN3LfrrEDWlg",
        "outputId": "a12268b3-62c0-4fda-bc91-a491de627837"
      },
      "execution_count": null,
      "outputs": [
        {
          "output_type": "stream",
          "name": "stdout",
          "text": [
            "22\n"
          ]
        }
      ]
    },
    {
      "cell_type": "code",
      "source": [],
      "metadata": {
        "id": "6SpHVY4er2h3"
      },
      "execution_count": null,
      "outputs": []
    }
  ]
}