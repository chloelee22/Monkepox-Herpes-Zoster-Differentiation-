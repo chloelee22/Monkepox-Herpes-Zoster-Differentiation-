{
  "nbformat": 4,
  "nbformat_minor": 0,
  "metadata": {
    "colab": {
      "provenance": []
    },
    "kernelspec": {
      "name": "python3",
      "display_name": "Python 3"
    },
    "language_info": {
      "name": "python"
    }
  },
  "cells": [
    {
      "cell_type": "code",
      "source": [
        "from google.colab import drive\n",
        "drive.mount('/content/drive')"
      ],
      "metadata": {
        "id": "GTr7CmJdmCLK"
      },
      "execution_count": null,
      "outputs": []
    },
    {
      "cell_type": "code",
      "source": [
        "!pip install tensorflow-gpu"
      ],
      "metadata": {
        "id": "7ykR9pv-mMJu"
      },
      "execution_count": null,
      "outputs": []
    },
    {
      "cell_type": "code",
      "source": [
        "import numpy as np\n",
        "import tensorflow as tf\n",
        "from tensorflow import keras"
      ],
      "metadata": {
        "id": "qhdo6ACkmw2X"
      },
      "execution_count": null,
      "outputs": []
    },
    {
      "cell_type": "code",
      "source": [
        "\n",
        "from tensorflow.keras.preprocessing.image import ImageDataGenerator\n",
        "from tensorflow.keras import Model\n",
        "from tensorflow.keras.layers import Dense, GlobalAveragePooling2D\n",
        "from tensorflow.keras.optimizers import Adam\n",
        "from keras.applications.mobilenet_v3 import MobileNetV3Small, preprocess_input\n",
        "from tensorflow.keras.preprocessing.image import ImageDataGenerator"
      ],
      "metadata": {
        "id": "XIwok5NFmRZZ"
      },
      "execution_count": null,
      "outputs": []
    },
    {
      "cell_type": "code",
      "source": [
        "import numpy as np\n",
        "import pandas as pd\n",
        "\n",
        "import matplotlib.pyplot as plt\n",
        "%matplotlib inline\n",
        "\n",
        "import cv2\n",
        "\n",
        "import os"
      ],
      "metadata": {
        "id": "oI_RVP39wKEz"
      },
      "execution_count": null,
      "outputs": []
    },
    {
      "cell_type": "code",
      "source": [
        "train_path = '/content/drive/MyDrive/TrainTestValidationAugmented/train'\n",
        "valid_path = '/content/drive/MyDrive/TrainTestValidationAugmented/val'\n",
        "test_path = '/content/drive/MyDrive/TrainTestValidationSplitFinal/test'\n",
        "\n",
        "train_generator = ImageDataGenerator(preprocessing_function=preprocess_input).flow_from_directory(train_path, target_size=(224,224), batch_size=10)\n",
        "valid_generator = ImageDataGenerator(preprocessing_function=preprocess_input).flow_from_directory(valid_path, target_size=(224,224), batch_size=6)\n",
        "test_generator = ImageDataGenerator(preprocessing_function=preprocess_input).flow_from_directory(test_path, target_size=(224,224), batch_size=6)"
      ],
      "metadata": {
        "colab": {
          "base_uri": "https://localhost:8080/"
        },
        "id": "HDEwdfdTmRU5",
        "outputId": "0fcb1aa9-904e-48a8-8876-7d77ce10b2de"
      },
      "execution_count": null,
      "outputs": [
        {
          "output_type": "stream",
          "name": "stdout",
          "text": [
            "Found 1567 images belonging to 2 classes.\n",
            "Found 239 images belonging to 2 classes.\n",
            "Found 58 images belonging to 2 classes.\n"
          ]
        }
      ]
    },
    {
      "cell_type": "code",
      "source": [
        "import matplotlib.pyplot as plt\n",
        "import numpy as np\n",
        "import os\n",
        "import PIL\n",
        "import tensorflow as tf\n",
        "from tensorflow import keras\n",
        "from tensorflow.keras import layers\n",
        "from tensorflow.keras.layers import Dense, Flatten\n",
        "from tensorflow.keras.models import Sequential\n",
        "from tensorflow.keras.optimizers import Adam"
      ],
      "metadata": {
        "id": "b-Kf0lfhxgoU"
      },
      "execution_count": null,
      "outputs": []
    },
    {
      "cell_type": "code",
      "source": [
        "from tensorflow.keras.applications.resnet50 import ResNet50\n",
        "from tensorflow.python.keras.models import Sequential"
      ],
      "metadata": {
        "id": "2vg7QYO8wDjl"
      },
      "execution_count": null,
      "outputs": []
    },
    {
      "cell_type": "code",
      "source": [
        "resnet_model= tf.keras.applications.ResNet50(include_top=False,\n",
        "                   input_shape=(224,224,3),\n",
        "                   pooling='avg',classes=2,\n",
        "                   weights='imagenet')\n",
        "for layer in pretrained_model.layers:\n",
        "        layer.trainable=False\n",
        "\n",
        "x=base_model.output\n",
        "x=GlobalAveragePooling2D()(x)\n",
        "x=Dense(512,activation='relu')(x) #we add dense layers so that the model can learn more complex functions and classify for better results.\n",
        "x=Dense(256,activation='relu')(x) #dense layer 2\n",
        "x=Dense(128,activation='relu')(x) #dense layer 3\n",
        "preds=Dense(2,activation='sigmoid')(x)\n",
        "\n",
        "model= Model(inputs = base_model.input, outputs=preds)"
      ],
      "metadata": {
        "id": "eT42Xz6izc4G"
      },
      "execution_count": null,
      "outputs": []
    },
    {
      "cell_type": "code",
      "source": [
        "model.summary()"
      ],
      "metadata": {
        "colab": {
          "base_uri": "https://localhost:8080/"
        },
        "id": "U-XNHfpI0st7",
        "outputId": "5158500f-61ce-46a0-a365-a39cd5b1f9c1"
      },
      "execution_count": null,
      "outputs": [
        {
          "output_type": "stream",
          "name": "stdout",
          "text": [
            "Model: \"model_1\"\n",
            "__________________________________________________________________________________________________\n",
            " Layer (type)                   Output Shape         Param #     Connected to                     \n",
            "==================================================================================================\n",
            " input_14 (InputLayer)          [(None, None, None,  0           []                               \n",
            "                                 3)]                                                              \n",
            "                                                                                                  \n",
            " rescaling_5 (Rescaling)        (None, None, None,   0           ['input_14[0][0]']               \n",
            "                                3)                                                                \n",
            "                                                                                                  \n",
            " Conv (Conv2D)                  (None, None, None,   432         ['rescaling_5[0][0]']            \n",
            "                                16)                                                               \n",
            "                                                                                                  \n",
            " Conv/BatchNorm (BatchNormaliza  (None, None, None,   64         ['Conv[0][0]']                   \n",
            " tion)                          16)                                                               \n",
            "                                                                                                  \n",
            " tf.__operators__.add_135 (TFOp  (None, None, None,   0          ['Conv/BatchNorm[0][0]']         \n",
            " Lambda)                        16)                                                               \n",
            "                                                                                                  \n",
            " re_lu_160 (ReLU)               (None, None, None,   0           ['tf.__operators__.add_135[0][0]'\n",
            "                                16)                              ]                                \n",
            "                                                                                                  \n",
            " tf.math.multiply_135 (TFOpLamb  (None, None, None,   0          ['re_lu_160[0][0]']              \n",
            " da)                            16)                                                               \n",
            "                                                                                                  \n",
            " multiply_90 (Multiply)         (None, None, None,   0           ['Conv/BatchNorm[0][0]',         \n",
            "                                16)                               'tf.math.multiply_135[0][0]']   \n",
            "                                                                                                  \n",
            " expanded_conv/depthwise/pad (Z  (None, None, None,   0          ['multiply_90[0][0]']            \n",
            " eroPadding2D)                  16)                                                               \n",
            "                                                                                                  \n",
            " expanded_conv/depthwise (Depth  (None, None, None,   144        ['expanded_conv/depthwise/pad[0][\n",
            " wiseConv2D)                    16)                              0]']                             \n",
            "                                                                                                  \n",
            " expanded_conv/depthwise/BatchN  (None, None, None,   64         ['expanded_conv/depthwise[0][0]']\n",
            " orm (BatchNormalization)       16)                                                               \n",
            "                                                                                                  \n",
            " re_lu_161 (ReLU)               (None, None, None,   0           ['expanded_conv/depthwise/BatchNo\n",
            "                                16)                              rm[0][0]']                       \n",
            "                                                                                                  \n",
            " expanded_conv/squeeze_excite/A  (None, 1, 1, 16)    0           ['re_lu_161[0][0]']              \n",
            " vgPool (GlobalAveragePooling2D                                                                   \n",
            " )                                                                                                \n",
            "                                                                                                  \n",
            " expanded_conv/squeeze_excite/C  (None, 1, 1, 8)     136         ['expanded_conv/squeeze_excite/Av\n",
            " onv (Conv2D)                                                    gPool[0][0]']                    \n",
            "                                                                                                  \n",
            " expanded_conv/squeeze_excite/R  (None, 1, 1, 8)     0           ['expanded_conv/squeeze_excite/Co\n",
            " elu (ReLU)                                                      nv[0][0]']                       \n",
            "                                                                                                  \n",
            " expanded_conv/squeeze_excite/C  (None, 1, 1, 16)    144         ['expanded_conv/squeeze_excite/Re\n",
            " onv_1 (Conv2D)                                                  lu[0][0]']                       \n",
            "                                                                                                  \n",
            " tf.__operators__.add_136 (TFOp  (None, 1, 1, 16)    0           ['expanded_conv/squeeze_excite/Co\n",
            " Lambda)                                                         nv_1[0][0]']                     \n",
            "                                                                                                  \n",
            " re_lu_162 (ReLU)               (None, 1, 1, 16)     0           ['tf.__operators__.add_136[0][0]'\n",
            "                                                                 ]                                \n",
            "                                                                                                  \n",
            " tf.math.multiply_136 (TFOpLamb  (None, 1, 1, 16)    0           ['re_lu_162[0][0]']              \n",
            " da)                                                                                              \n",
            "                                                                                                  \n",
            " expanded_conv/squeeze_excite/M  (None, None, None,   0          ['re_lu_161[0][0]',              \n",
            " ul (Multiply)                  16)                               'tf.math.multiply_136[0][0]']   \n",
            "                                                                                                  \n",
            " expanded_conv/project (Conv2D)  (None, None, None,   256        ['expanded_conv/squeeze_excite/Mu\n",
            "                                16)                              l[0][0]']                        \n",
            "                                                                                                  \n",
            " expanded_conv/project/BatchNor  (None, None, None,   64         ['expanded_conv/project[0][0]']  \n",
            " m (BatchNormalization)         16)                                                               \n",
            "                                                                                                  \n",
            " expanded_conv_1/expand (Conv2D  (None, None, None,   1152       ['expanded_conv/project/BatchNorm\n",
            " )                              72)                              [0][0]']                         \n",
            "                                                                                                  \n",
            " expanded_conv_1/expand/BatchNo  (None, None, None,   288        ['expanded_conv_1/expand[0][0]'] \n",
            " rm (BatchNormalization)        72)                                                               \n",
            "                                                                                                  \n",
            " re_lu_163 (ReLU)               (None, None, None,   0           ['expanded_conv_1/expand/BatchNor\n",
            "                                72)                              m[0][0]']                        \n",
            "                                                                                                  \n",
            " expanded_conv_1/depthwise/pad   (None, None, None,   0          ['re_lu_163[0][0]']              \n",
            " (ZeroPadding2D)                72)                                                               \n",
            "                                                                                                  \n",
            " expanded_conv_1/depthwise (Dep  (None, None, None,   648        ['expanded_conv_1/depthwise/pad[0\n",
            " thwiseConv2D)                  72)                              ][0]']                           \n",
            "                                                                                                  \n",
            " expanded_conv_1/depthwise/Batc  (None, None, None,   288        ['expanded_conv_1/depthwise[0][0]\n",
            " hNorm (BatchNormalization)     72)                              ']                               \n",
            "                                                                                                  \n",
            " re_lu_164 (ReLU)               (None, None, None,   0           ['expanded_conv_1/depthwise/Batch\n",
            "                                72)                              Norm[0][0]']                     \n",
            "                                                                                                  \n",
            " expanded_conv_1/project (Conv2  (None, None, None,   1728       ['re_lu_164[0][0]']              \n",
            " D)                             24)                                                               \n",
            "                                                                                                  \n",
            " expanded_conv_1/project/BatchN  (None, None, None,   96         ['expanded_conv_1/project[0][0]']\n",
            " orm (BatchNormalization)       24)                                                               \n",
            "                                                                                                  \n",
            " expanded_conv_2/expand (Conv2D  (None, None, None,   2112       ['expanded_conv_1/project/BatchNo\n",
            " )                              88)                              rm[0][0]']                       \n",
            "                                                                                                  \n",
            " expanded_conv_2/expand/BatchNo  (None, None, None,   352        ['expanded_conv_2/expand[0][0]'] \n",
            " rm (BatchNormalization)        88)                                                               \n",
            "                                                                                                  \n",
            " re_lu_165 (ReLU)               (None, None, None,   0           ['expanded_conv_2/expand/BatchNor\n",
            "                                88)                              m[0][0]']                        \n",
            "                                                                                                  \n",
            " expanded_conv_2/depthwise (Dep  (None, None, None,   792        ['re_lu_165[0][0]']              \n",
            " thwiseConv2D)                  88)                                                               \n",
            "                                                                                                  \n",
            " expanded_conv_2/depthwise/Batc  (None, None, None,   352        ['expanded_conv_2/depthwise[0][0]\n",
            " hNorm (BatchNormalization)     88)                              ']                               \n",
            "                                                                                                  \n",
            " re_lu_166 (ReLU)               (None, None, None,   0           ['expanded_conv_2/depthwise/Batch\n",
            "                                88)                              Norm[0][0]']                     \n",
            "                                                                                                  \n",
            " expanded_conv_2/project (Conv2  (None, None, None,   2112       ['re_lu_166[0][0]']              \n",
            " D)                             24)                                                               \n",
            "                                                                                                  \n",
            " expanded_conv_2/project/BatchN  (None, None, None,   96         ['expanded_conv_2/project[0][0]']\n",
            " orm (BatchNormalization)       24)                                                               \n",
            "                                                                                                  \n",
            " expanded_conv_2/Add (Add)      (None, None, None,   0           ['expanded_conv_1/project/BatchNo\n",
            "                                24)                              rm[0][0]',                       \n",
            "                                                                  'expanded_conv_2/project/BatchNo\n",
            "                                                                 rm[0][0]']                       \n",
            "                                                                                                  \n",
            " expanded_conv_3/expand (Conv2D  (None, None, None,   2304       ['expanded_conv_2/Add[0][0]']    \n",
            " )                              96)                                                               \n",
            "                                                                                                  \n",
            " expanded_conv_3/expand/BatchNo  (None, None, None,   384        ['expanded_conv_3/expand[0][0]'] \n",
            " rm (BatchNormalization)        96)                                                               \n",
            "                                                                                                  \n",
            " tf.__operators__.add_137 (TFOp  (None, None, None,   0          ['expanded_conv_3/expand/BatchNor\n",
            " Lambda)                        96)                              m[0][0]']                        \n",
            "                                                                                                  \n",
            " re_lu_167 (ReLU)               (None, None, None,   0           ['tf.__operators__.add_137[0][0]'\n",
            "                                96)                              ]                                \n",
            "                                                                                                  \n",
            " tf.math.multiply_137 (TFOpLamb  (None, None, None,   0          ['re_lu_167[0][0]']              \n",
            " da)                            96)                                                               \n",
            "                                                                                                  \n",
            " multiply_91 (Multiply)         (None, None, None,   0           ['expanded_conv_3/expand/BatchNor\n",
            "                                96)                              m[0][0]',                        \n",
            "                                                                  'tf.math.multiply_137[0][0]']   \n",
            "                                                                                                  \n",
            " expanded_conv_3/depthwise/pad   (None, None, None,   0          ['multiply_91[0][0]']            \n",
            " (ZeroPadding2D)                96)                                                               \n",
            "                                                                                                  \n",
            " expanded_conv_3/depthwise (Dep  (None, None, None,   2400       ['expanded_conv_3/depthwise/pad[0\n",
            " thwiseConv2D)                  96)                              ][0]']                           \n",
            "                                                                                                  \n",
            " expanded_conv_3/depthwise/Batc  (None, None, None,   384        ['expanded_conv_3/depthwise[0][0]\n",
            " hNorm (BatchNormalization)     96)                              ']                               \n",
            "                                                                                                  \n",
            " tf.__operators__.add_138 (TFOp  (None, None, None,   0          ['expanded_conv_3/depthwise/Batch\n",
            " Lambda)                        96)                              Norm[0][0]']                     \n",
            "                                                                                                  \n",
            " re_lu_168 (ReLU)               (None, None, None,   0           ['tf.__operators__.add_138[0][0]'\n",
            "                                96)                              ]                                \n",
            "                                                                                                  \n",
            " tf.math.multiply_138 (TFOpLamb  (None, None, None,   0          ['re_lu_168[0][0]']              \n",
            " da)                            96)                                                               \n",
            "                                                                                                  \n",
            " multiply_92 (Multiply)         (None, None, None,   0           ['expanded_conv_3/depthwise/Batch\n",
            "                                96)                              Norm[0][0]',                     \n",
            "                                                                  'tf.math.multiply_138[0][0]']   \n",
            "                                                                                                  \n",
            " expanded_conv_3/squeeze_excite  (None, 1, 1, 96)    0           ['multiply_92[0][0]']            \n",
            " /AvgPool (GlobalAveragePooling                                                                   \n",
            " 2D)                                                                                              \n",
            "                                                                                                  \n",
            " expanded_conv_3/squeeze_excite  (None, 1, 1, 24)    2328        ['expanded_conv_3/squeeze_excite/\n",
            " /Conv (Conv2D)                                                  AvgPool[0][0]']                  \n",
            "                                                                                                  \n",
            " expanded_conv_3/squeeze_excite  (None, 1, 1, 24)    0           ['expanded_conv_3/squeeze_excite/\n",
            " /Relu (ReLU)                                                    Conv[0][0]']                     \n",
            "                                                                                                  \n",
            " expanded_conv_3/squeeze_excite  (None, 1, 1, 96)    2400        ['expanded_conv_3/squeeze_excite/\n",
            " /Conv_1 (Conv2D)                                                Relu[0][0]']                     \n",
            "                                                                                                  \n",
            " tf.__operators__.add_139 (TFOp  (None, 1, 1, 96)    0           ['expanded_conv_3/squeeze_excite/\n",
            " Lambda)                                                         Conv_1[0][0]']                   \n",
            "                                                                                                  \n",
            " re_lu_169 (ReLU)               (None, 1, 1, 96)     0           ['tf.__operators__.add_139[0][0]'\n",
            "                                                                 ]                                \n",
            "                                                                                                  \n",
            " tf.math.multiply_139 (TFOpLamb  (None, 1, 1, 96)    0           ['re_lu_169[0][0]']              \n",
            " da)                                                                                              \n",
            "                                                                                                  \n",
            " expanded_conv_3/squeeze_excite  (None, None, None,   0          ['multiply_92[0][0]',            \n",
            " /Mul (Multiply)                96)                               'tf.math.multiply_139[0][0]']   \n",
            "                                                                                                  \n",
            " expanded_conv_3/project (Conv2  (None, None, None,   3840       ['expanded_conv_3/squeeze_excite/\n",
            " D)                             40)                              Mul[0][0]']                      \n",
            "                                                                                                  \n",
            " expanded_conv_3/project/BatchN  (None, None, None,   160        ['expanded_conv_3/project[0][0]']\n",
            " orm (BatchNormalization)       40)                                                               \n",
            "                                                                                                  \n",
            " expanded_conv_4/expand (Conv2D  (None, None, None,   9600       ['expanded_conv_3/project/BatchNo\n",
            " )                              240)                             rm[0][0]']                       \n",
            "                                                                                                  \n",
            " expanded_conv_4/expand/BatchNo  (None, None, None,   960        ['expanded_conv_4/expand[0][0]'] \n",
            " rm (BatchNormalization)        240)                                                              \n",
            "                                                                                                  \n",
            " tf.__operators__.add_140 (TFOp  (None, None, None,   0          ['expanded_conv_4/expand/BatchNor\n",
            " Lambda)                        240)                             m[0][0]']                        \n",
            "                                                                                                  \n",
            " re_lu_170 (ReLU)               (None, None, None,   0           ['tf.__operators__.add_140[0][0]'\n",
            "                                240)                             ]                                \n",
            "                                                                                                  \n",
            " tf.math.multiply_140 (TFOpLamb  (None, None, None,   0          ['re_lu_170[0][0]']              \n",
            " da)                            240)                                                              \n",
            "                                                                                                  \n",
            " multiply_93 (Multiply)         (None, None, None,   0           ['expanded_conv_4/expand/BatchNor\n",
            "                                240)                             m[0][0]',                        \n",
            "                                                                  'tf.math.multiply_140[0][0]']   \n",
            "                                                                                                  \n",
            " expanded_conv_4/depthwise (Dep  (None, None, None,   6000       ['multiply_93[0][0]']            \n",
            " thwiseConv2D)                  240)                                                              \n",
            "                                                                                                  \n",
            " expanded_conv_4/depthwise/Batc  (None, None, None,   960        ['expanded_conv_4/depthwise[0][0]\n",
            " hNorm (BatchNormalization)     240)                             ']                               \n",
            "                                                                                                  \n",
            " tf.__operators__.add_141 (TFOp  (None, None, None,   0          ['expanded_conv_4/depthwise/Batch\n",
            " Lambda)                        240)                             Norm[0][0]']                     \n",
            "                                                                                                  \n",
            " re_lu_171 (ReLU)               (None, None, None,   0           ['tf.__operators__.add_141[0][0]'\n",
            "                                240)                             ]                                \n",
            "                                                                                                  \n",
            " tf.math.multiply_141 (TFOpLamb  (None, None, None,   0          ['re_lu_171[0][0]']              \n",
            " da)                            240)                                                              \n",
            "                                                                                                  \n",
            " multiply_94 (Multiply)         (None, None, None,   0           ['expanded_conv_4/depthwise/Batch\n",
            "                                240)                             Norm[0][0]',                     \n",
            "                                                                  'tf.math.multiply_141[0][0]']   \n",
            "                                                                                                  \n",
            " expanded_conv_4/squeeze_excite  (None, 1, 1, 240)   0           ['multiply_94[0][0]']            \n",
            " /AvgPool (GlobalAveragePooling                                                                   \n",
            " 2D)                                                                                              \n",
            "                                                                                                  \n",
            " expanded_conv_4/squeeze_excite  (None, 1, 1, 64)    15424       ['expanded_conv_4/squeeze_excite/\n",
            " /Conv (Conv2D)                                                  AvgPool[0][0]']                  \n",
            "                                                                                                  \n",
            " expanded_conv_4/squeeze_excite  (None, 1, 1, 64)    0           ['expanded_conv_4/squeeze_excite/\n",
            " /Relu (ReLU)                                                    Conv[0][0]']                     \n",
            "                                                                                                  \n",
            " expanded_conv_4/squeeze_excite  (None, 1, 1, 240)   15600       ['expanded_conv_4/squeeze_excite/\n",
            " /Conv_1 (Conv2D)                                                Relu[0][0]']                     \n",
            "                                                                                                  \n",
            " tf.__operators__.add_142 (TFOp  (None, 1, 1, 240)   0           ['expanded_conv_4/squeeze_excite/\n",
            " Lambda)                                                         Conv_1[0][0]']                   \n",
            "                                                                                                  \n",
            " re_lu_172 (ReLU)               (None, 1, 1, 240)    0           ['tf.__operators__.add_142[0][0]'\n",
            "                                                                 ]                                \n",
            "                                                                                                  \n",
            " tf.math.multiply_142 (TFOpLamb  (None, 1, 1, 240)   0           ['re_lu_172[0][0]']              \n",
            " da)                                                                                              \n",
            "                                                                                                  \n",
            " expanded_conv_4/squeeze_excite  (None, None, None,   0          ['multiply_94[0][0]',            \n",
            " /Mul (Multiply)                240)                              'tf.math.multiply_142[0][0]']   \n",
            "                                                                                                  \n",
            " expanded_conv_4/project (Conv2  (None, None, None,   9600       ['expanded_conv_4/squeeze_excite/\n",
            " D)                             40)                              Mul[0][0]']                      \n",
            "                                                                                                  \n",
            " expanded_conv_4/project/BatchN  (None, None, None,   160        ['expanded_conv_4/project[0][0]']\n",
            " orm (BatchNormalization)       40)                                                               \n",
            "                                                                                                  \n",
            " expanded_conv_4/Add (Add)      (None, None, None,   0           ['expanded_conv_3/project/BatchNo\n",
            "                                40)                              rm[0][0]',                       \n",
            "                                                                  'expanded_conv_4/project/BatchNo\n",
            "                                                                 rm[0][0]']                       \n",
            "                                                                                                  \n",
            " expanded_conv_5/expand (Conv2D  (None, None, None,   9600       ['expanded_conv_4/Add[0][0]']    \n",
            " )                              240)                                                              \n",
            "                                                                                                  \n",
            " expanded_conv_5/expand/BatchNo  (None, None, None,   960        ['expanded_conv_5/expand[0][0]'] \n",
            " rm (BatchNormalization)        240)                                                              \n",
            "                                                                                                  \n",
            " tf.__operators__.add_143 (TFOp  (None, None, None,   0          ['expanded_conv_5/expand/BatchNor\n",
            " Lambda)                        240)                             m[0][0]']                        \n",
            "                                                                                                  \n",
            " re_lu_173 (ReLU)               (None, None, None,   0           ['tf.__operators__.add_143[0][0]'\n",
            "                                240)                             ]                                \n",
            "                                                                                                  \n",
            " tf.math.multiply_143 (TFOpLamb  (None, None, None,   0          ['re_lu_173[0][0]']              \n",
            " da)                            240)                                                              \n",
            "                                                                                                  \n",
            " multiply_95 (Multiply)         (None, None, None,   0           ['expanded_conv_5/expand/BatchNor\n",
            "                                240)                             m[0][0]',                        \n",
            "                                                                  'tf.math.multiply_143[0][0]']   \n",
            "                                                                                                  \n",
            " expanded_conv_5/depthwise (Dep  (None, None, None,   6000       ['multiply_95[0][0]']            \n",
            " thwiseConv2D)                  240)                                                              \n",
            "                                                                                                  \n",
            " expanded_conv_5/depthwise/Batc  (None, None, None,   960        ['expanded_conv_5/depthwise[0][0]\n",
            " hNorm (BatchNormalization)     240)                             ']                               \n",
            "                                                                                                  \n",
            " tf.__operators__.add_144 (TFOp  (None, None, None,   0          ['expanded_conv_5/depthwise/Batch\n",
            " Lambda)                        240)                             Norm[0][0]']                     \n",
            "                                                                                                  \n",
            " re_lu_174 (ReLU)               (None, None, None,   0           ['tf.__operators__.add_144[0][0]'\n",
            "                                240)                             ]                                \n",
            "                                                                                                  \n",
            " tf.math.multiply_144 (TFOpLamb  (None, None, None,   0          ['re_lu_174[0][0]']              \n",
            " da)                            240)                                                              \n",
            "                                                                                                  \n",
            " multiply_96 (Multiply)         (None, None, None,   0           ['expanded_conv_5/depthwise/Batch\n",
            "                                240)                             Norm[0][0]',                     \n",
            "                                                                  'tf.math.multiply_144[0][0]']   \n",
            "                                                                                                  \n",
            " expanded_conv_5/squeeze_excite  (None, 1, 1, 240)   0           ['multiply_96[0][0]']            \n",
            " /AvgPool (GlobalAveragePooling                                                                   \n",
            " 2D)                                                                                              \n",
            "                                                                                                  \n",
            " expanded_conv_5/squeeze_excite  (None, 1, 1, 64)    15424       ['expanded_conv_5/squeeze_excite/\n",
            " /Conv (Conv2D)                                                  AvgPool[0][0]']                  \n",
            "                                                                                                  \n",
            " expanded_conv_5/squeeze_excite  (None, 1, 1, 64)    0           ['expanded_conv_5/squeeze_excite/\n",
            " /Relu (ReLU)                                                    Conv[0][0]']                     \n",
            "                                                                                                  \n",
            " expanded_conv_5/squeeze_excite  (None, 1, 1, 240)   15600       ['expanded_conv_5/squeeze_excite/\n",
            " /Conv_1 (Conv2D)                                                Relu[0][0]']                     \n",
            "                                                                                                  \n",
            " tf.__operators__.add_145 (TFOp  (None, 1, 1, 240)   0           ['expanded_conv_5/squeeze_excite/\n",
            " Lambda)                                                         Conv_1[0][0]']                   \n",
            "                                                                                                  \n",
            " re_lu_175 (ReLU)               (None, 1, 1, 240)    0           ['tf.__operators__.add_145[0][0]'\n",
            "                                                                 ]                                \n",
            "                                                                                                  \n",
            " tf.math.multiply_145 (TFOpLamb  (None, 1, 1, 240)   0           ['re_lu_175[0][0]']              \n",
            " da)                                                                                              \n",
            "                                                                                                  \n",
            " expanded_conv_5/squeeze_excite  (None, None, None,   0          ['multiply_96[0][0]',            \n",
            " /Mul (Multiply)                240)                              'tf.math.multiply_145[0][0]']   \n",
            "                                                                                                  \n",
            " expanded_conv_5/project (Conv2  (None, None, None,   9600       ['expanded_conv_5/squeeze_excite/\n",
            " D)                             40)                              Mul[0][0]']                      \n",
            "                                                                                                  \n",
            " expanded_conv_5/project/BatchN  (None, None, None,   160        ['expanded_conv_5/project[0][0]']\n",
            " orm (BatchNormalization)       40)                                                               \n",
            "                                                                                                  \n",
            " expanded_conv_5/Add (Add)      (None, None, None,   0           ['expanded_conv_4/Add[0][0]',    \n",
            "                                40)                               'expanded_conv_5/project/BatchNo\n",
            "                                                                 rm[0][0]']                       \n",
            "                                                                                                  \n",
            " expanded_conv_6/expand (Conv2D  (None, None, None,   4800       ['expanded_conv_5/Add[0][0]']    \n",
            " )                              120)                                                              \n",
            "                                                                                                  \n",
            " expanded_conv_6/expand/BatchNo  (None, None, None,   480        ['expanded_conv_6/expand[0][0]'] \n",
            " rm (BatchNormalization)        120)                                                              \n",
            "                                                                                                  \n",
            " tf.__operators__.add_146 (TFOp  (None, None, None,   0          ['expanded_conv_6/expand/BatchNor\n",
            " Lambda)                        120)                             m[0][0]']                        \n",
            "                                                                                                  \n",
            " re_lu_176 (ReLU)               (None, None, None,   0           ['tf.__operators__.add_146[0][0]'\n",
            "                                120)                             ]                                \n",
            "                                                                                                  \n",
            " tf.math.multiply_146 (TFOpLamb  (None, None, None,   0          ['re_lu_176[0][0]']              \n",
            " da)                            120)                                                              \n",
            "                                                                                                  \n",
            " multiply_97 (Multiply)         (None, None, None,   0           ['expanded_conv_6/expand/BatchNor\n",
            "                                120)                             m[0][0]',                        \n",
            "                                                                  'tf.math.multiply_146[0][0]']   \n",
            "                                                                                                  \n",
            " expanded_conv_6/depthwise (Dep  (None, None, None,   3000       ['multiply_97[0][0]']            \n",
            " thwiseConv2D)                  120)                                                              \n",
            "                                                                                                  \n",
            " expanded_conv_6/depthwise/Batc  (None, None, None,   480        ['expanded_conv_6/depthwise[0][0]\n",
            " hNorm (BatchNormalization)     120)                             ']                               \n",
            "                                                                                                  \n",
            " tf.__operators__.add_147 (TFOp  (None, None, None,   0          ['expanded_conv_6/depthwise/Batch\n",
            " Lambda)                        120)                             Norm[0][0]']                     \n",
            "                                                                                                  \n",
            " re_lu_177 (ReLU)               (None, None, None,   0           ['tf.__operators__.add_147[0][0]'\n",
            "                                120)                             ]                                \n",
            "                                                                                                  \n",
            " tf.math.multiply_147 (TFOpLamb  (None, None, None,   0          ['re_lu_177[0][0]']              \n",
            " da)                            120)                                                              \n",
            "                                                                                                  \n",
            " multiply_98 (Multiply)         (None, None, None,   0           ['expanded_conv_6/depthwise/Batch\n",
            "                                120)                             Norm[0][0]',                     \n",
            "                                                                  'tf.math.multiply_147[0][0]']   \n",
            "                                                                                                  \n",
            " expanded_conv_6/squeeze_excite  (None, 1, 1, 120)   0           ['multiply_98[0][0]']            \n",
            " /AvgPool (GlobalAveragePooling                                                                   \n",
            " 2D)                                                                                              \n",
            "                                                                                                  \n",
            " expanded_conv_6/squeeze_excite  (None, 1, 1, 32)    3872        ['expanded_conv_6/squeeze_excite/\n",
            " /Conv (Conv2D)                                                  AvgPool[0][0]']                  \n",
            "                                                                                                  \n",
            " expanded_conv_6/squeeze_excite  (None, 1, 1, 32)    0           ['expanded_conv_6/squeeze_excite/\n",
            " /Relu (ReLU)                                                    Conv[0][0]']                     \n",
            "                                                                                                  \n",
            " expanded_conv_6/squeeze_excite  (None, 1, 1, 120)   3960        ['expanded_conv_6/squeeze_excite/\n",
            " /Conv_1 (Conv2D)                                                Relu[0][0]']                     \n",
            "                                                                                                  \n",
            " tf.__operators__.add_148 (TFOp  (None, 1, 1, 120)   0           ['expanded_conv_6/squeeze_excite/\n",
            " Lambda)                                                         Conv_1[0][0]']                   \n",
            "                                                                                                  \n",
            " re_lu_178 (ReLU)               (None, 1, 1, 120)    0           ['tf.__operators__.add_148[0][0]'\n",
            "                                                                 ]                                \n",
            "                                                                                                  \n",
            " tf.math.multiply_148 (TFOpLamb  (None, 1, 1, 120)   0           ['re_lu_178[0][0]']              \n",
            " da)                                                                                              \n",
            "                                                                                                  \n",
            " expanded_conv_6/squeeze_excite  (None, None, None,   0          ['multiply_98[0][0]',            \n",
            " /Mul (Multiply)                120)                              'tf.math.multiply_148[0][0]']   \n",
            "                                                                                                  \n",
            " expanded_conv_6/project (Conv2  (None, None, None,   5760       ['expanded_conv_6/squeeze_excite/\n",
            " D)                             48)                              Mul[0][0]']                      \n",
            "                                                                                                  \n",
            " expanded_conv_6/project/BatchN  (None, None, None,   192        ['expanded_conv_6/project[0][0]']\n",
            " orm (BatchNormalization)       48)                                                               \n",
            "                                                                                                  \n",
            " expanded_conv_7/expand (Conv2D  (None, None, None,   6912       ['expanded_conv_6/project/BatchNo\n",
            " )                              144)                             rm[0][0]']                       \n",
            "                                                                                                  \n",
            " expanded_conv_7/expand/BatchNo  (None, None, None,   576        ['expanded_conv_7/expand[0][0]'] \n",
            " rm (BatchNormalization)        144)                                                              \n",
            "                                                                                                  \n",
            " tf.__operators__.add_149 (TFOp  (None, None, None,   0          ['expanded_conv_7/expand/BatchNor\n",
            " Lambda)                        144)                             m[0][0]']                        \n",
            "                                                                                                  \n",
            " re_lu_179 (ReLU)               (None, None, None,   0           ['tf.__operators__.add_149[0][0]'\n",
            "                                144)                             ]                                \n",
            "                                                                                                  \n",
            " tf.math.multiply_149 (TFOpLamb  (None, None, None,   0          ['re_lu_179[0][0]']              \n",
            " da)                            144)                                                              \n",
            "                                                                                                  \n",
            " multiply_99 (Multiply)         (None, None, None,   0           ['expanded_conv_7/expand/BatchNor\n",
            "                                144)                             m[0][0]',                        \n",
            "                                                                  'tf.math.multiply_149[0][0]']   \n",
            "                                                                                                  \n",
            " expanded_conv_7/depthwise (Dep  (None, None, None,   3600       ['multiply_99[0][0]']            \n",
            " thwiseConv2D)                  144)                                                              \n",
            "                                                                                                  \n",
            " expanded_conv_7/depthwise/Batc  (None, None, None,   576        ['expanded_conv_7/depthwise[0][0]\n",
            " hNorm (BatchNormalization)     144)                             ']                               \n",
            "                                                                                                  \n",
            " tf.__operators__.add_150 (TFOp  (None, None, None,   0          ['expanded_conv_7/depthwise/Batch\n",
            " Lambda)                        144)                             Norm[0][0]']                     \n",
            "                                                                                                  \n",
            " re_lu_180 (ReLU)               (None, None, None,   0           ['tf.__operators__.add_150[0][0]'\n",
            "                                144)                             ]                                \n",
            "                                                                                                  \n",
            " tf.math.multiply_150 (TFOpLamb  (None, None, None,   0          ['re_lu_180[0][0]']              \n",
            " da)                            144)                                                              \n",
            "                                                                                                  \n",
            " multiply_100 (Multiply)        (None, None, None,   0           ['expanded_conv_7/depthwise/Batch\n",
            "                                144)                             Norm[0][0]',                     \n",
            "                                                                  'tf.math.multiply_150[0][0]']   \n",
            "                                                                                                  \n",
            " expanded_conv_7/squeeze_excite  (None, 1, 1, 144)   0           ['multiply_100[0][0]']           \n",
            " /AvgPool (GlobalAveragePooling                                                                   \n",
            " 2D)                                                                                              \n",
            "                                                                                                  \n",
            " expanded_conv_7/squeeze_excite  (None, 1, 1, 40)    5800        ['expanded_conv_7/squeeze_excite/\n",
            " /Conv (Conv2D)                                                  AvgPool[0][0]']                  \n",
            "                                                                                                  \n",
            " expanded_conv_7/squeeze_excite  (None, 1, 1, 40)    0           ['expanded_conv_7/squeeze_excite/\n",
            " /Relu (ReLU)                                                    Conv[0][0]']                     \n",
            "                                                                                                  \n",
            " expanded_conv_7/squeeze_excite  (None, 1, 1, 144)   5904        ['expanded_conv_7/squeeze_excite/\n",
            " /Conv_1 (Conv2D)                                                Relu[0][0]']                     \n",
            "                                                                                                  \n",
            " tf.__operators__.add_151 (TFOp  (None, 1, 1, 144)   0           ['expanded_conv_7/squeeze_excite/\n",
            " Lambda)                                                         Conv_1[0][0]']                   \n",
            "                                                                                                  \n",
            " re_lu_181 (ReLU)               (None, 1, 1, 144)    0           ['tf.__operators__.add_151[0][0]'\n",
            "                                                                 ]                                \n",
            "                                                                                                  \n",
            " tf.math.multiply_151 (TFOpLamb  (None, 1, 1, 144)   0           ['re_lu_181[0][0]']              \n",
            " da)                                                                                              \n",
            "                                                                                                  \n",
            " expanded_conv_7/squeeze_excite  (None, None, None,   0          ['multiply_100[0][0]',           \n",
            " /Mul (Multiply)                144)                              'tf.math.multiply_151[0][0]']   \n",
            "                                                                                                  \n",
            " expanded_conv_7/project (Conv2  (None, None, None,   6912       ['expanded_conv_7/squeeze_excite/\n",
            " D)                             48)                              Mul[0][0]']                      \n",
            "                                                                                                  \n",
            " expanded_conv_7/project/BatchN  (None, None, None,   192        ['expanded_conv_7/project[0][0]']\n",
            " orm (BatchNormalization)       48)                                                               \n",
            "                                                                                                  \n",
            " expanded_conv_7/Add (Add)      (None, None, None,   0           ['expanded_conv_6/project/BatchNo\n",
            "                                48)                              rm[0][0]',                       \n",
            "                                                                  'expanded_conv_7/project/BatchNo\n",
            "                                                                 rm[0][0]']                       \n",
            "                                                                                                  \n",
            " expanded_conv_8/expand (Conv2D  (None, None, None,   13824      ['expanded_conv_7/Add[0][0]']    \n",
            " )                              288)                                                              \n",
            "                                                                                                  \n",
            " expanded_conv_8/expand/BatchNo  (None, None, None,   1152       ['expanded_conv_8/expand[0][0]'] \n",
            " rm (BatchNormalization)        288)                                                              \n",
            "                                                                                                  \n",
            " tf.__operators__.add_152 (TFOp  (None, None, None,   0          ['expanded_conv_8/expand/BatchNor\n",
            " Lambda)                        288)                             m[0][0]']                        \n",
            "                                                                                                  \n",
            " re_lu_182 (ReLU)               (None, None, None,   0           ['tf.__operators__.add_152[0][0]'\n",
            "                                288)                             ]                                \n",
            "                                                                                                  \n",
            " tf.math.multiply_152 (TFOpLamb  (None, None, None,   0          ['re_lu_182[0][0]']              \n",
            " da)                            288)                                                              \n",
            "                                                                                                  \n",
            " multiply_101 (Multiply)        (None, None, None,   0           ['expanded_conv_8/expand/BatchNor\n",
            "                                288)                             m[0][0]',                        \n",
            "                                                                  'tf.math.multiply_152[0][0]']   \n",
            "                                                                                                  \n",
            " expanded_conv_8/depthwise/pad   (None, None, None,   0          ['multiply_101[0][0]']           \n",
            " (ZeroPadding2D)                288)                                                              \n",
            "                                                                                                  \n",
            " expanded_conv_8/depthwise (Dep  (None, None, None,   7200       ['expanded_conv_8/depthwise/pad[0\n",
            " thwiseConv2D)                  288)                             ][0]']                           \n",
            "                                                                                                  \n",
            " expanded_conv_8/depthwise/Batc  (None, None, None,   1152       ['expanded_conv_8/depthwise[0][0]\n",
            " hNorm (BatchNormalization)     288)                             ']                               \n",
            "                                                                                                  \n",
            " tf.__operators__.add_153 (TFOp  (None, None, None,   0          ['expanded_conv_8/depthwise/Batch\n",
            " Lambda)                        288)                             Norm[0][0]']                     \n",
            "                                                                                                  \n",
            " re_lu_183 (ReLU)               (None, None, None,   0           ['tf.__operators__.add_153[0][0]'\n",
            "                                288)                             ]                                \n",
            "                                                                                                  \n",
            " tf.math.multiply_153 (TFOpLamb  (None, None, None,   0          ['re_lu_183[0][0]']              \n",
            " da)                            288)                                                              \n",
            "                                                                                                  \n",
            " multiply_102 (Multiply)        (None, None, None,   0           ['expanded_conv_8/depthwise/Batch\n",
            "                                288)                             Norm[0][0]',                     \n",
            "                                                                  'tf.math.multiply_153[0][0]']   \n",
            "                                                                                                  \n",
            " expanded_conv_8/squeeze_excite  (None, 1, 1, 288)   0           ['multiply_102[0][0]']           \n",
            " /AvgPool (GlobalAveragePooling                                                                   \n",
            " 2D)                                                                                              \n",
            "                                                                                                  \n",
            " expanded_conv_8/squeeze_excite  (None, 1, 1, 72)    20808       ['expanded_conv_8/squeeze_excite/\n",
            " /Conv (Conv2D)                                                  AvgPool[0][0]']                  \n",
            "                                                                                                  \n",
            " expanded_conv_8/squeeze_excite  (None, 1, 1, 72)    0           ['expanded_conv_8/squeeze_excite/\n",
            " /Relu (ReLU)                                                    Conv[0][0]']                     \n",
            "                                                                                                  \n",
            " expanded_conv_8/squeeze_excite  (None, 1, 1, 288)   21024       ['expanded_conv_8/squeeze_excite/\n",
            " /Conv_1 (Conv2D)                                                Relu[0][0]']                     \n",
            "                                                                                                  \n",
            " tf.__operators__.add_154 (TFOp  (None, 1, 1, 288)   0           ['expanded_conv_8/squeeze_excite/\n",
            " Lambda)                                                         Conv_1[0][0]']                   \n",
            "                                                                                                  \n",
            " re_lu_184 (ReLU)               (None, 1, 1, 288)    0           ['tf.__operators__.add_154[0][0]'\n",
            "                                                                 ]                                \n",
            "                                                                                                  \n",
            " tf.math.multiply_154 (TFOpLamb  (None, 1, 1, 288)   0           ['re_lu_184[0][0]']              \n",
            " da)                                                                                              \n",
            "                                                                                                  \n",
            " expanded_conv_8/squeeze_excite  (None, None, None,   0          ['multiply_102[0][0]',           \n",
            " /Mul (Multiply)                288)                              'tf.math.multiply_154[0][0]']   \n",
            "                                                                                                  \n",
            " expanded_conv_8/project (Conv2  (None, None, None,   27648      ['expanded_conv_8/squeeze_excite/\n",
            " D)                             96)                              Mul[0][0]']                      \n",
            "                                                                                                  \n",
            " expanded_conv_8/project/BatchN  (None, None, None,   384        ['expanded_conv_8/project[0][0]']\n",
            " orm (BatchNormalization)       96)                                                               \n",
            "                                                                                                  \n",
            " expanded_conv_9/expand (Conv2D  (None, None, None,   55296      ['expanded_conv_8/project/BatchNo\n",
            " )                              576)                             rm[0][0]']                       \n",
            "                                                                                                  \n",
            " expanded_conv_9/expand/BatchNo  (None, None, None,   2304       ['expanded_conv_9/expand[0][0]'] \n",
            " rm (BatchNormalization)        576)                                                              \n",
            "                                                                                                  \n",
            " tf.__operators__.add_155 (TFOp  (None, None, None,   0          ['expanded_conv_9/expand/BatchNor\n",
            " Lambda)                        576)                             m[0][0]']                        \n",
            "                                                                                                  \n",
            " re_lu_185 (ReLU)               (None, None, None,   0           ['tf.__operators__.add_155[0][0]'\n",
            "                                576)                             ]                                \n",
            "                                                                                                  \n",
            " tf.math.multiply_155 (TFOpLamb  (None, None, None,   0          ['re_lu_185[0][0]']              \n",
            " da)                            576)                                                              \n",
            "                                                                                                  \n",
            " multiply_103 (Multiply)        (None, None, None,   0           ['expanded_conv_9/expand/BatchNor\n",
            "                                576)                             m[0][0]',                        \n",
            "                                                                  'tf.math.multiply_155[0][0]']   \n",
            "                                                                                                  \n",
            " expanded_conv_9/depthwise (Dep  (None, None, None,   14400      ['multiply_103[0][0]']           \n",
            " thwiseConv2D)                  576)                                                              \n",
            "                                                                                                  \n",
            " expanded_conv_9/depthwise/Batc  (None, None, None,   2304       ['expanded_conv_9/depthwise[0][0]\n",
            " hNorm (BatchNormalization)     576)                             ']                               \n",
            "                                                                                                  \n",
            " tf.__operators__.add_156 (TFOp  (None, None, None,   0          ['expanded_conv_9/depthwise/Batch\n",
            " Lambda)                        576)                             Norm[0][0]']                     \n",
            "                                                                                                  \n",
            " re_lu_186 (ReLU)               (None, None, None,   0           ['tf.__operators__.add_156[0][0]'\n",
            "                                576)                             ]                                \n",
            "                                                                                                  \n",
            " tf.math.multiply_156 (TFOpLamb  (None, None, None,   0          ['re_lu_186[0][0]']              \n",
            " da)                            576)                                                              \n",
            "                                                                                                  \n",
            " multiply_104 (Multiply)        (None, None, None,   0           ['expanded_conv_9/depthwise/Batch\n",
            "                                576)                             Norm[0][0]',                     \n",
            "                                                                  'tf.math.multiply_156[0][0]']   \n",
            "                                                                                                  \n",
            " expanded_conv_9/squeeze_excite  (None, 1, 1, 576)   0           ['multiply_104[0][0]']           \n",
            " /AvgPool (GlobalAveragePooling                                                                   \n",
            " 2D)                                                                                              \n",
            "                                                                                                  \n",
            " expanded_conv_9/squeeze_excite  (None, 1, 1, 144)   83088       ['expanded_conv_9/squeeze_excite/\n",
            " /Conv (Conv2D)                                                  AvgPool[0][0]']                  \n",
            "                                                                                                  \n",
            " expanded_conv_9/squeeze_excite  (None, 1, 1, 144)   0           ['expanded_conv_9/squeeze_excite/\n",
            " /Relu (ReLU)                                                    Conv[0][0]']                     \n",
            "                                                                                                  \n",
            " expanded_conv_9/squeeze_excite  (None, 1, 1, 576)   83520       ['expanded_conv_9/squeeze_excite/\n",
            " /Conv_1 (Conv2D)                                                Relu[0][0]']                     \n",
            "                                                                                                  \n",
            " tf.__operators__.add_157 (TFOp  (None, 1, 1, 576)   0           ['expanded_conv_9/squeeze_excite/\n",
            " Lambda)                                                         Conv_1[0][0]']                   \n",
            "                                                                                                  \n",
            " re_lu_187 (ReLU)               (None, 1, 1, 576)    0           ['tf.__operators__.add_157[0][0]'\n",
            "                                                                 ]                                \n",
            "                                                                                                  \n",
            " tf.math.multiply_157 (TFOpLamb  (None, 1, 1, 576)   0           ['re_lu_187[0][0]']              \n",
            " da)                                                                                              \n",
            "                                                                                                  \n",
            " expanded_conv_9/squeeze_excite  (None, None, None,   0          ['multiply_104[0][0]',           \n",
            " /Mul (Multiply)                576)                              'tf.math.multiply_157[0][0]']   \n",
            "                                                                                                  \n",
            " expanded_conv_9/project (Conv2  (None, None, None,   55296      ['expanded_conv_9/squeeze_excite/\n",
            " D)                             96)                              Mul[0][0]']                      \n",
            "                                                                                                  \n",
            " expanded_conv_9/project/BatchN  (None, None, None,   384        ['expanded_conv_9/project[0][0]']\n",
            " orm (BatchNormalization)       96)                                                               \n",
            "                                                                                                  \n",
            " expanded_conv_9/Add (Add)      (None, None, None,   0           ['expanded_conv_8/project/BatchNo\n",
            "                                96)                              rm[0][0]',                       \n",
            "                                                                  'expanded_conv_9/project/BatchNo\n",
            "                                                                 rm[0][0]']                       \n",
            "                                                                                                  \n",
            " expanded_conv_10/expand (Conv2  (None, None, None,   55296      ['expanded_conv_9/Add[0][0]']    \n",
            " D)                             576)                                                              \n",
            "                                                                                                  \n",
            " expanded_conv_10/expand/BatchN  (None, None, None,   2304       ['expanded_conv_10/expand[0][0]']\n",
            " orm (BatchNormalization)       576)                                                              \n",
            "                                                                                                  \n",
            " tf.__operators__.add_158 (TFOp  (None, None, None,   0          ['expanded_conv_10/expand/BatchNo\n",
            " Lambda)                        576)                             rm[0][0]']                       \n",
            "                                                                                                  \n",
            " re_lu_188 (ReLU)               (None, None, None,   0           ['tf.__operators__.add_158[0][0]'\n",
            "                                576)                             ]                                \n",
            "                                                                                                  \n",
            " tf.math.multiply_158 (TFOpLamb  (None, None, None,   0          ['re_lu_188[0][0]']              \n",
            " da)                            576)                                                              \n",
            "                                                                                                  \n",
            " multiply_105 (Multiply)        (None, None, None,   0           ['expanded_conv_10/expand/BatchNo\n",
            "                                576)                             rm[0][0]',                       \n",
            "                                                                  'tf.math.multiply_158[0][0]']   \n",
            "                                                                                                  \n",
            " expanded_conv_10/depthwise (De  (None, None, None,   14400      ['multiply_105[0][0]']           \n",
            " pthwiseConv2D)                 576)                                                              \n",
            "                                                                                                  \n",
            " expanded_conv_10/depthwise/Bat  (None, None, None,   2304       ['expanded_conv_10/depthwise[0][0\n",
            " chNorm (BatchNormalization)    576)                             ]']                              \n",
            "                                                                                                  \n",
            " tf.__operators__.add_159 (TFOp  (None, None, None,   0          ['expanded_conv_10/depthwise/Batc\n",
            " Lambda)                        576)                             hNorm[0][0]']                    \n",
            "                                                                                                  \n",
            " re_lu_189 (ReLU)               (None, None, None,   0           ['tf.__operators__.add_159[0][0]'\n",
            "                                576)                             ]                                \n",
            "                                                                                                  \n",
            " tf.math.multiply_159 (TFOpLamb  (None, None, None,   0          ['re_lu_189[0][0]']              \n",
            " da)                            576)                                                              \n",
            "                                                                                                  \n",
            " multiply_106 (Multiply)        (None, None, None,   0           ['expanded_conv_10/depthwise/Batc\n",
            "                                576)                             hNorm[0][0]',                    \n",
            "                                                                  'tf.math.multiply_159[0][0]']   \n",
            "                                                                                                  \n",
            " expanded_conv_10/squeeze_excit  (None, 1, 1, 576)   0           ['multiply_106[0][0]']           \n",
            " e/AvgPool (GlobalAveragePoolin                                                                   \n",
            " g2D)                                                                                             \n",
            "                                                                                                  \n",
            " expanded_conv_10/squeeze_excit  (None, 1, 1, 144)   83088       ['expanded_conv_10/squeeze_excite\n",
            " e/Conv (Conv2D)                                                 /AvgPool[0][0]']                 \n",
            "                                                                                                  \n",
            " expanded_conv_10/squeeze_excit  (None, 1, 1, 144)   0           ['expanded_conv_10/squeeze_excite\n",
            " e/Relu (ReLU)                                                   /Conv[0][0]']                    \n",
            "                                                                                                  \n",
            " expanded_conv_10/squeeze_excit  (None, 1, 1, 576)   83520       ['expanded_conv_10/squeeze_excite\n",
            " e/Conv_1 (Conv2D)                                               /Relu[0][0]']                    \n",
            "                                                                                                  \n",
            " tf.__operators__.add_160 (TFOp  (None, 1, 1, 576)   0           ['expanded_conv_10/squeeze_excite\n",
            " Lambda)                                                         /Conv_1[0][0]']                  \n",
            "                                                                                                  \n",
            " re_lu_190 (ReLU)               (None, 1, 1, 576)    0           ['tf.__operators__.add_160[0][0]'\n",
            "                                                                 ]                                \n",
            "                                                                                                  \n",
            " tf.math.multiply_160 (TFOpLamb  (None, 1, 1, 576)   0           ['re_lu_190[0][0]']              \n",
            " da)                                                                                              \n",
            "                                                                                                  \n",
            " expanded_conv_10/squeeze_excit  (None, None, None,   0          ['multiply_106[0][0]',           \n",
            " e/Mul (Multiply)               576)                              'tf.math.multiply_160[0][0]']   \n",
            "                                                                                                  \n",
            " expanded_conv_10/project (Conv  (None, None, None,   55296      ['expanded_conv_10/squeeze_excite\n",
            " 2D)                            96)                              /Mul[0][0]']                     \n",
            "                                                                                                  \n",
            " expanded_conv_10/project/Batch  (None, None, None,   384        ['expanded_conv_10/project[0][0]'\n",
            " Norm (BatchNormalization)      96)                              ]                                \n",
            "                                                                                                  \n",
            " expanded_conv_10/Add (Add)     (None, None, None,   0           ['expanded_conv_9/Add[0][0]',    \n",
            "                                96)                               'expanded_conv_10/project/BatchN\n",
            "                                                                 orm[0][0]']                      \n",
            "                                                                                                  \n",
            " Conv_1 (Conv2D)                (None, None, None,   55296       ['expanded_conv_10/Add[0][0]']   \n",
            "                                576)                                                              \n",
            "                                                                                                  \n",
            " Conv_1/BatchNorm (BatchNormali  (None, None, None,   2304       ['Conv_1[0][0]']                 \n",
            " zation)                        576)                                                              \n",
            "                                                                                                  \n",
            " tf.__operators__.add_161 (TFOp  (None, None, None,   0          ['Conv_1/BatchNorm[0][0]']       \n",
            " Lambda)                        576)                                                              \n",
            "                                                                                                  \n",
            " re_lu_191 (ReLU)               (None, None, None,   0           ['tf.__operators__.add_161[0][0]'\n",
            "                                576)                             ]                                \n",
            "                                                                                                  \n",
            " tf.math.multiply_161 (TFOpLamb  (None, None, None,   0          ['re_lu_191[0][0]']              \n",
            " da)                            576)                                                              \n",
            "                                                                                                  \n",
            " multiply_107 (Multiply)        (None, None, None,   0           ['Conv_1/BatchNorm[0][0]',       \n",
            "                                576)                              'tf.math.multiply_161[0][0]']   \n",
            "                                                                                                  \n",
            " global_average_pooling2d_11 (G  (None, 576)         0           ['multiply_107[0][0]']           \n",
            " lobalAveragePooling2D)                                                                           \n",
            "                                                                                                  \n",
            " dense_4 (Dense)                (None, 512)          295424      ['global_average_pooling2d_11[0][\n",
            "                                                                 0]']                             \n",
            "                                                                                                  \n",
            " dense_5 (Dense)                (None, 256)          131328      ['dense_4[0][0]']                \n",
            "                                                                                                  \n",
            " dense_6 (Dense)                (None, 128)          32896       ['dense_5[0][0]']                \n",
            "                                                                                                  \n",
            " dense_7 (Dense)                (None, 2)            258         ['dense_6[0][0]']                \n",
            "                                                                                                  \n",
            "==================================================================================================\n",
            "Total params: 1,399,026\n",
            "Trainable params: 1,386,914\n",
            "Non-trainable params: 12,112\n",
            "__________________________________________________________________________________________________\n"
          ]
        }
      ]
    },
    {
      "cell_type": "code",
      "source": [
        "classes = {0: ('HZVFinal','herpes zoster'),\n",
        "           1:('Monkeypox Images Phase 2' , 'mpox')}"
      ],
      "metadata": {
        "id": "GgjZngVpxMnD"
      },
      "execution_count": null,
      "outputs": []
    },
    {
      "cell_type": "code",
      "source": [
        "callback = tf.keras.callbacks.EarlyStopping(monitor='val_loss', patience=3)"
      ],
      "metadata": {
        "id": "318zglYns8M9"
      },
      "execution_count": null,
      "outputs": []
    },
    {
      "cell_type": "code",
      "source": [
        "epochs = 20\n",
        "\n",
        "optimizer = Adam(learning_rate=.0001)\n",
        "\n",
        "model.compile(loss='categorical_crossentropy', optimizer=optimizer, metrics=['accuracy'])\n",
        "hist = model.fit(train_generator, validation_data=valid_generator, epochs=epochs, shuffle=True)"
      ],
      "metadata": {
        "colab": {
          "base_uri": "https://localhost:8080/"
        },
        "id": "v1LdxKpCtBNt",
        "outputId": "8b9455fb-b605-4d74-c6ac-f859da0586d8"
      },
      "execution_count": null,
      "outputs": [
        {
          "output_type": "stream",
          "name": "stdout",
          "text": [
            "Epoch 1/20\n",
            "157/157 [==============================] - 389s 2s/step - loss: 0.4088 - accuracy: 0.7977 - val_loss: 0.7007 - val_accuracy: 0.6318\n",
            "Epoch 2/20\n",
            "157/157 [==============================] - 90s 571ms/step - loss: 0.2024 - accuracy: 0.9241 - val_loss: 0.4371 - val_accuracy: 0.7908\n",
            "Epoch 3/20\n",
            "157/157 [==============================] - 89s 569ms/step - loss: 0.1209 - accuracy: 0.9541 - val_loss: 0.4650 - val_accuracy: 0.8117\n",
            "Epoch 4/20\n",
            "157/157 [==============================] - 92s 582ms/step - loss: 0.0945 - accuracy: 0.9617 - val_loss: 0.5735 - val_accuracy: 0.8075\n",
            "Epoch 5/20\n",
            "157/157 [==============================] - 91s 580ms/step - loss: 0.0912 - accuracy: 0.9662 - val_loss: 0.5387 - val_accuracy: 0.8285\n",
            "Epoch 6/20\n",
            "157/157 [==============================] - 86s 547ms/step - loss: 0.0814 - accuracy: 0.9655 - val_loss: 0.7676 - val_accuracy: 0.7657\n",
            "Epoch 7/20\n",
            "157/157 [==============================] - 87s 556ms/step - loss: 0.0580 - accuracy: 0.9757 - val_loss: 0.2673 - val_accuracy: 0.8870\n",
            "Epoch 8/20\n",
            "157/157 [==============================] - 87s 556ms/step - loss: 0.0319 - accuracy: 0.9879 - val_loss: 0.4417 - val_accuracy: 0.8577\n",
            "Epoch 9/20\n",
            "157/157 [==============================] - 86s 549ms/step - loss: 0.0311 - accuracy: 0.9885 - val_loss: 0.4371 - val_accuracy: 0.8619\n",
            "Epoch 10/20\n",
            "157/157 [==============================] - 84s 533ms/step - loss: 0.0376 - accuracy: 0.9879 - val_loss: 0.2222 - val_accuracy: 0.9038\n",
            "Epoch 11/20\n",
            "157/157 [==============================] - 82s 520ms/step - loss: 0.0332 - accuracy: 0.9892 - val_loss: 0.3226 - val_accuracy: 0.8828\n",
            "Epoch 12/20\n",
            "157/157 [==============================] - 82s 521ms/step - loss: 0.0400 - accuracy: 0.9860 - val_loss: 0.3345 - val_accuracy: 0.8870\n",
            "Epoch 13/20\n",
            "157/157 [==============================] - 85s 543ms/step - loss: 0.0364 - accuracy: 0.9885 - val_loss: 0.1191 - val_accuracy: 0.9540\n",
            "Epoch 14/20\n",
            "157/157 [==============================] - 86s 550ms/step - loss: 0.0183 - accuracy: 0.9936 - val_loss: 0.1385 - val_accuracy: 0.9456\n",
            "Epoch 15/20\n",
            "157/157 [==============================] - 83s 532ms/step - loss: 0.0275 - accuracy: 0.9917 - val_loss: 0.2604 - val_accuracy: 0.9331\n",
            "Epoch 16/20\n",
            "157/157 [==============================] - 87s 552ms/step - loss: 0.0305 - accuracy: 0.9892 - val_loss: 0.1385 - val_accuracy: 0.9498\n",
            "Epoch 17/20\n",
            "157/157 [==============================] - 86s 549ms/step - loss: 0.0140 - accuracy: 0.9936 - val_loss: 0.0871 - val_accuracy: 0.9749\n",
            "Epoch 18/20\n",
            "157/157 [==============================] - 85s 541ms/step - loss: 0.0100 - accuracy: 0.9962 - val_loss: 0.1657 - val_accuracy: 0.9414\n",
            "Epoch 19/20\n",
            "157/157 [==============================] - 89s 565ms/step - loss: 0.0256 - accuracy: 0.9892 - val_loss: 0.2433 - val_accuracy: 0.9121\n",
            "Epoch 20/20\n",
            "157/157 [==============================] - 86s 546ms/step - loss: 0.0275 - accuracy: 0.9898 - val_loss: 0.1905 - val_accuracy: 0.9623\n"
          ]
        }
      ]
    },
    {
      "cell_type": "code",
      "source": [
        "hist.history"
      ],
      "metadata": {
        "colab": {
          "base_uri": "https://localhost:8080/"
        },
        "id": "mnNqpRad_AHp",
        "outputId": "4969f10f-4cce-45e8-cd43-6368bc618769"
      },
      "execution_count": null,
      "outputs": [
        {
          "output_type": "execute_result",
          "data": {
            "text/plain": [
              "{'loss': [0.40875443816185,\n",
              "  0.2023710459470749,\n",
              "  0.1208934485912323,\n",
              "  0.0944521501660347,\n",
              "  0.09121225774288177,\n",
              "  0.0813915878534317,\n",
              "  0.058001063764095306,\n",
              "  0.03193766251206398,\n",
              "  0.031067490577697754,\n",
              "  0.03755291551351547,\n",
              "  0.03320987895131111,\n",
              "  0.03995374217629433,\n",
              "  0.0364251472055912,\n",
              "  0.018264086917042732,\n",
              "  0.02745632641017437,\n",
              "  0.03045402280986309,\n",
              "  0.014031966216862202,\n",
              "  0.010026355274021626,\n",
              "  0.025640644133090973,\n",
              "  0.027476219460368156],\n",
              " 'accuracy': [0.7977026104927063,\n",
              "  0.924058735370636,\n",
              "  0.9540523290634155,\n",
              "  0.9617102742195129,\n",
              "  0.9661774039268494,\n",
              "  0.965539276599884,\n",
              "  0.9757498502731323,\n",
              "  0.9878749251365662,\n",
              "  0.9885131120681763,\n",
              "  0.9878749251365662,\n",
              "  0.9891512393951416,\n",
              "  0.9859604239463806,\n",
              "  0.9885131120681763,\n",
              "  0.993618369102478,\n",
              "  0.9917038679122925,\n",
              "  0.9891512393951416,\n",
              "  0.993618369102478,\n",
              "  0.9961710572242737,\n",
              "  0.9891512393951416,\n",
              "  0.9897894263267517],\n",
              " 'val_loss': [0.7007150053977966,\n",
              "  0.4371316134929657,\n",
              "  0.46500974893569946,\n",
              "  0.5735142827033997,\n",
              "  0.5387154817581177,\n",
              "  0.7675927877426147,\n",
              "  0.26734375953674316,\n",
              "  0.4416562020778656,\n",
              "  0.4371013045310974,\n",
              "  0.2222103476524353,\n",
              "  0.3225747346878052,\n",
              "  0.3345455527305603,\n",
              "  0.11910992860794067,\n",
              "  0.13846006989479065,\n",
              "  0.26043063402175903,\n",
              "  0.1385231614112854,\n",
              "  0.08706964552402496,\n",
              "  0.16571615636348724,\n",
              "  0.24328550696372986,\n",
              "  0.19053860008716583],\n",
              " 'val_accuracy': [0.6317991614341736,\n",
              "  0.7907949686050415,\n",
              "  0.8117154836654663,\n",
              "  0.8075313568115234,\n",
              "  0.8284518718719482,\n",
              "  0.7656903862953186,\n",
              "  0.8870292901992798,\n",
              "  0.857740581035614,\n",
              "  0.8619247078895569,\n",
              "  0.9037656784057617,\n",
              "  0.8828451633453369,\n",
              "  0.8870292901992798,\n",
              "  0.9539749026298523,\n",
              "  0.9456067085266113,\n",
              "  0.9330543875694275,\n",
              "  0.9497907757759094,\n",
              "  0.9748954176902771,\n",
              "  0.9414225816726685,\n",
              "  0.9121338725090027,\n",
              "  0.9623430967330933]}"
            ]
          },
          "metadata": {},
          "execution_count": 42
        }
      ]
    },
    {
      "cell_type": "code",
      "source": [
        "fig = plt.figure()\n",
        "plt.plot(hist.history['loss'], color='teal', label='loss')\n",
        "plt.plot(hist.history['val_loss'], color='orange', label='val_loss')\n",
        "plt.suptitle('Loss', fontsize=20)\n",
        "plt.legend(loc=\"upper left\")\n",
        "plt.show()"
      ],
      "metadata": {
        "colab": {
          "base_uri": "https://localhost:8080/",
          "height": 294
        },
        "id": "e0YzHHIQ_EOq",
        "outputId": "193a5258-bc73-442b-bfc4-1448c54dcbe5"
      },
      "execution_count": null,
      "outputs": [
        {
          "output_type": "display_data",
          "data": {
            "text/plain": [
              "<Figure size 432x288 with 1 Axes>"
            ],
            "image/png": "[encoded data removed]"
          },
          "metadata": {
            "needs_background": "light"
          }
        }
      ]
    },
    {
      "cell_type": "code",
      "source": [
        "fig = plt.figure()\n",
        "plt.plot(hist.history['accuracy'], color='teal', label='accuracy')\n",
        "plt.plot(hist.history['val_accuracy'], color='orange', label='val_accuracy')\n",
        "plt.suptitle('Accuracy', fontsize=20)\n",
        "plt.legend(loc=\"upper left\")\n",
        "plt.show()"
      ],
      "metadata": {
        "colab": {
          "base_uri": "https://localhost:8080/",
          "height": 294
        },
        "id": "QxztV3cp_IVw",
        "outputId": "a74571c7-8a7e-4545-fad1-310265921b37"
      },
      "execution_count": null,
      "outputs": [
        {
          "output_type": "display_data",
          "data": {
            "text/plain": [
              "<Figure size 432x288 with 1 Axes>"
            ],
            "image/png": "[encoded data removed]"
          },
          "metadata": {
            "needs_background": "light"
          }
        }
      ]
    },
    {
      "cell_type": "code",
      "source": [
        "from tensorflow.keras.models import load_model"
      ],
      "metadata": {
        "id": "nOpTdhwi_O0h"
      },
      "execution_count": null,
      "outputs": []
    },
    {
      "cell_type": "code",
      "source": [
        "model.save(os.path.join('models','resnet50.h5'))"
      ],
      "metadata": {
        "id": "EH8w0Qjo_ROh",
        "colab": {
          "base_uri": "https://localhost:8080/",
          "height": 204
        },
        "outputId": "754fea94-e42d-4982-89d7-f0b2581da581"
      },
      "execution_count": null,
      "outputs": [
        {
          "output_type": "error",
          "ename": "NameError",
          "evalue": "ignored",
          "traceback": [
            "\u001b[0;31m---------------------------------------------------------------------------\u001b[0m",
            "\u001b[0;31mNameError\u001b[0m                                 Traceback (most recent call last)",
            "\u001b[0;32m<ipython-input-8-8bba61e144af>\u001b[0m in \u001b[0;36m<module>\u001b[0;34m\u001b[0m\n\u001b[0;32m----> 1\u001b[0;31m \u001b[0mmodel\u001b[0m\u001b[0;34m.\u001b[0m\u001b[0msave\u001b[0m\u001b[0;34m(\u001b[0m\u001b[0mos\u001b[0m\u001b[0;34m.\u001b[0m\u001b[0mpath\u001b[0m\u001b[0;34m.\u001b[0m\u001b[0mjoin\u001b[0m\u001b[0;34m(\u001b[0m\u001b[0;34m'models'\u001b[0m\u001b[0;34m,\u001b[0m\u001b[0;34m'resnet50.h5'\u001b[0m\u001b[0;34m)\u001b[0m\u001b[0;34m)\u001b[0m\u001b[0;34m\u001b[0m\u001b[0;34m\u001b[0m\u001b[0m\n\u001b[0m",
            "\u001b[0;31mNameError\u001b[0m: name 'model' is not defined"
          ]
        }
      ]
    },
    {
      "cell_type": "code",
      "source": [
        "print(\"Evaluate on test data\")\n",
        "results = model.evaluate(test_generator, batch_size=6)\n",
        "print(\"test loss, test acc:\", results)\n"
      ],
      "metadata": {
        "colab": {
          "base_uri": "https://localhost:8080/"
        },
        "id": "cEyohkX2_Wv9",
        "outputId": "0f073aeb-c2c2-4246-9f89-5a41d4d044ed"
      },
      "execution_count": null,
      "outputs": [
        {
          "output_type": "stream",
          "name": "stdout",
          "text": [
            "Evaluate on test data\n",
            "10/10 [==============================] - 11s 1s/step - loss: 0.1703 - accuracy: 0.9310\n",
            "test loss, test acc: [0.17027825117111206, 0.931034505367279]\n"
          ]
        }
      ]
    },
    {
      "cell_type": "code",
      "source": [
        "! tensorflowjs_converter --input_format=keras /tmp/resnet50.h5 /tmp/tfjs_model"
      ],
      "metadata": {
        "colab": {
          "base_uri": "https://localhost:8080/"
        },
        "id": "v-FS7KKe8Vl6",
        "outputId": "644729c5-6e0e-48ef-d971-995a926c7f65"
      },
      "execution_count": null,
      "outputs": [
        {
          "output_type": "stream",
          "name": "stdout",
          "text": [
            "/bin/bash: tensorflowjs_converter: command not found\n"
          ]
        }
      ]
    },
    {
      "cell_type": "code",
      "source": [
        "!mkdir model"
      ],
      "metadata": {
        "id": "ShJfap6Prw66"
      },
      "execution_count": null,
      "outputs": []
    },
    {
      "cell_type": "code",
      "source": [
        "!tensorflowjs_converter --input_format keras resnet50.h5 model/"
      ],
      "metadata": {
        "colab": {
          "base_uri": "https://localhost:8080/"
        },
        "id": "BZ116a4Br7WW",
        "outputId": "06c11549-dc26-4804-c350-005962f59b9b"
      },
      "execution_count": null,
      "outputs": [
        {
          "output_type": "stream",
          "name": "stdout",
          "text": [
            "/bin/bash: tensorflowjs_converter: command not found\n"
          ]
        }
      ]
    },
    {
      "cell_type": "code",
      "source": [
        "!zip -r model.zip model"
      ],
      "metadata": {
        "colab": {
          "base_uri": "https://localhost:8080/"
        },
        "id": "wvFlPnwmsJnh",
        "outputId": "f795f77f-f2b2-4b3c-e4c4-2dfae97d4040"
      },
      "execution_count": null,
      "outputs": [
        {
          "output_type": "stream",
          "name": "stdout",
          "text": [
            "  adding: model/ (stored 0%)\n"
          ]
        }
      ]
    },
    {
      "cell_type": "code",
      "source": [
        "!sudo pip3 install tensorflowjs"
      ],
      "metadata": {
        "colab": {
          "base_uri": "https://localhost:8080/"
        },
        "id": "_GFSXFsL-39b",
        "outputId": "44da301c-2c91-4b6e-c609-440f34395791"
      },
      "execution_count": null,
      "outputs": [
        {
          "output_type": "stream",
          "name": "stdout",
          "text": [
            "Looking in indexes: https://pypi.org/simple, https://us-python.pkg.dev/colab-wheels/public/simple/\n",
            "Collecting tensorflowjs\n",
            "  Downloading tensorflowjs-4.2.0-py3-none-any.whl (84 kB)\n",
            "\u001b[2K     \u001b[90m━━━━━━━━━━━━━━━━━━━━━━━━━━━━━━━━━━━━━━━━\u001b[0m \u001b[32m84.5/84.5 KB\u001b[0m \u001b[31m4.8 MB/s\u001b[0m eta \u001b[36m0:00:00\u001b[0m\n",
            "\u001b[?25hRequirement already satisfied: protobuf<3.20,>=3.9.2 in /usr/local/lib/python3.8/dist-packages (from tensorflowjs) (3.19.6)\n",
            "Requirement already satisfied: jax>=0.3.16 in /usr/local/lib/python3.8/dist-packages (from tensorflowjs) (0.4.4)\n",
            "Collecting packaging~=20.9\n",
            "  Downloading packaging-20.9-py2.py3-none-any.whl (40 kB)\n",
            "\u001b[2K     \u001b[90m━━━━━━━━━━━━━━━━━━━━━━━━━━━━━━━━━━━━━━━━\u001b[0m \u001b[32m40.9/40.9 KB\u001b[0m \u001b[31m5.0 MB/s\u001b[0m eta \u001b[36m0:00:00\u001b[0m\n",
            "\u001b[?25hRequirement already satisfied: tensorflow-hub<0.13,>=0.7.0 in /usr/local/lib/python3.8/dist-packages (from tensorflowjs) (0.12.0)\n",
            "Requirement already satisfied: tensorflow<3,>=2.10.0 in /usr/local/lib/python3.8/dist-packages (from tensorflowjs) (2.11.0)\n",
            "Requirement already satisfied: six<2,>=1.12.0 in /usr/local/lib/python3.8/dist-packages (from tensorflowjs) (1.15.0)\n",
            "Collecting flax>=0.6.2\n",
            "  Downloading flax-0.6.6-py3-none-any.whl (210 kB)\n",
            "\u001b[2K     \u001b[90m━━━━━━━━━━━━━━━━━━━━━━━━━━━━━━━━━━━━━━\u001b[0m \u001b[32m210.1/210.1 KB\u001b[0m \u001b[31m17.1 MB/s\u001b[0m eta \u001b[36m0:00:00\u001b[0m\n",
            "\u001b[?25hCollecting tensorflow-decision-forests>=1.0.1\n",
            "  Downloading tensorflow_decision_forests-1.2.0-cp38-cp38-manylinux_2_17_x86_64.manylinux2014_x86_64.whl (16.5 MB)\n",
            "\u001b[2K     \u001b[90m━━━━━━━━━━━━━━━━━━━━━━━━━━━━━━━━━━━━━━━━\u001b[0m \u001b[32m16.5/16.5 MB\u001b[0m \u001b[31m90.2 MB/s\u001b[0m eta \u001b[36m0:00:00\u001b[0m\n",
            "\u001b[?25hRequirement already satisfied: importlib_resources>=5.9.0 in /usr/local/lib/python3.8/dist-packages (from tensorflowjs) (5.12.0)\n",
            "Collecting optax\n",
            "  Downloading optax-0.1.4-py3-none-any.whl (154 kB)\n",
            "\u001b[2K     \u001b[90m━━━━━━━━━━━━━━━━━━━━━━━━━━━━━━━━━━━━━━\u001b[0m \u001b[32m154.9/154.9 KB\u001b[0m \u001b[31m19.0 MB/s\u001b[0m eta \u001b[36m0:00:00\u001b[0m\n",
            "\u001b[?25hCollecting tensorstore\n",
            "  Downloading tensorstore-0.1.33-cp38-cp38-manylinux_2_17_x86_64.manylinux2014_x86_64.whl (8.4 MB)\n",
            "\u001b[2K     \u001b[90m━━━━━━━━━━━━━━━━━━━━━━━━━━━━━━━━━━━━━━━━\u001b[0m \u001b[32m8.4/8.4 MB\u001b[0m \u001b[31m119.0 MB/s\u001b[0m eta \u001b[36m0:00:00\u001b[0m\n",
            "\u001b[?25hRequirement already satisfied: msgpack in /usr/local/lib/python3.8/dist-packages (from flax>=0.6.2->tensorflowjs) (1.0.4)\n",
            "Collecting orbax\n",
            "  Downloading orbax-0.1.3-py3-none-any.whl (74 kB)\n",
            "\u001b[2K     \u001b[90m━━━━━━━━━━━━━━━━━━━━━━━━━━━━━━━━━━━━━━━━\u001b[0m \u001b[32m74.2/74.2 KB\u001b[0m \u001b[31m10.6 MB/s\u001b[0m eta \u001b[36m0:00:00\u001b[0m\n",
            "\u001b[?25hRequirement already satisfied: typing-extensions>=4.1.1 in /usr/local/lib/python3.8/dist-packages (from flax>=0.6.2->tensorflowjs) (4.5.0)\n",
            "Collecting rich>=11.1\n",
            "  Downloading rich-13.3.2-py3-none-any.whl (238 kB)\n",
            "\u001b[2K     \u001b[90m━━━━━━━━━━━━━━━━━━━━━━━━━━━━━━━━━━━━━━\u001b[0m \u001b[32m238.7/238.7 KB\u001b[0m \u001b[31m24.2 MB/s\u001b[0m eta \u001b[36m0:00:00\u001b[0m\n",
            "\u001b[?25hRequirement already satisfied: PyYAML>=5.4.1 in /usr/local/lib/python3.8/dist-packages (from flax>=0.6.2->tensorflowjs) (6.0)\n",
            "Requirement already satisfied: matplotlib in /usr/local/lib/python3.8/dist-packages (from flax>=0.6.2->tensorflowjs) (3.5.3)\n",
            "Requirement already satisfied: numpy>=1.12 in /usr/local/lib/python3.8/dist-packages (from flax>=0.6.2->tensorflowjs) (1.22.4)\n",
            "Requirement already satisfied: zipp>=3.1.0 in /usr/local/lib/python3.8/dist-packages (from importlib_resources>=5.9.0->tensorflowjs) (3.15.0)\n",
            "Requirement already satisfied: scipy>=1.5 in /usr/local/lib/python3.8/dist-packages (from jax>=0.3.16->tensorflowjs) (1.10.1)\n",
            "Requirement already satisfied: opt-einsum in /usr/local/lib/python3.8/dist-packages (from jax>=0.3.16->tensorflowjs) (3.3.0)\n",
            "Requirement already satisfied: pyparsing>=2.0.2 in /usr/local/lib/python3.8/dist-packages (from packaging~=20.9->tensorflowjs) (3.0.9)\n",
            "Requirement already satisfied: keras<2.12,>=2.11.0 in /usr/local/lib/python3.8/dist-packages (from tensorflow<3,>=2.10.0->tensorflowjs) (2.11.0)\n",
            "Requirement already satisfied: astunparse>=1.6.0 in /usr/local/lib/python3.8/dist-packages (from tensorflow<3,>=2.10.0->tensorflowjs) (1.6.3)\n",
            "Requirement already satisfied: tensorboard<2.12,>=2.11 in /usr/local/lib/python3.8/dist-packages (from tensorflow<3,>=2.10.0->tensorflowjs) (2.11.2)\n",
            "Requirement already satisfied: absl-py>=1.0.0 in /usr/local/lib/python3.8/dist-packages (from tensorflow<3,>=2.10.0->tensorflowjs) (1.4.0)\n",
            "Requirement already satisfied: gast<=0.4.0,>=0.2.1 in /usr/local/lib/python3.8/dist-packages (from tensorflow<3,>=2.10.0->tensorflowjs) (0.4.0)\n",
            "Requirement already satisfied: setuptools in /usr/local/lib/python3.8/dist-packages (from tensorflow<3,>=2.10.0->tensorflowjs) (57.4.0)\n",
            "Requirement already satisfied: grpcio<2.0,>=1.24.3 in /usr/local/lib/python3.8/dist-packages (from tensorflow<3,>=2.10.0->tensorflowjs) (1.51.3)\n",
            "Requirement already satisfied: termcolor>=1.1.0 in /usr/local/lib/python3.8/dist-packages (from tensorflow<3,>=2.10.0->tensorflowjs) (2.2.0)\n",
            "Requirement already satisfied: google-pasta>=0.1.1 in /usr/local/lib/python3.8/dist-packages (from tensorflow<3,>=2.10.0->tensorflowjs) (0.2.0)\n",
            "Requirement already satisfied: tensorflow-io-gcs-filesystem>=0.23.1 in /usr/local/lib/python3.8/dist-packages (from tensorflow<3,>=2.10.0->tensorflowjs) (0.31.0)\n",
            "Requirement already satisfied: libclang>=13.0.0 in /usr/local/lib/python3.8/dist-packages (from tensorflow<3,>=2.10.0->tensorflowjs) (15.0.6.1)\n",
            "Requirement already satisfied: tensorflow-estimator<2.12,>=2.11.0 in /usr/local/lib/python3.8/dist-packages (from tensorflow<3,>=2.10.0->tensorflowjs) (2.11.0)\n",
            "Requirement already satisfied: h5py>=2.9.0 in /usr/local/lib/python3.8/dist-packages (from tensorflow<3,>=2.10.0->tensorflowjs) (3.1.0)\n",
            "Requirement already satisfied: flatbuffers>=2.0 in /usr/local/lib/python3.8/dist-packages (from tensorflow<3,>=2.10.0->tensorflowjs) (23.1.21)\n",
            "Requirement already satisfied: wrapt>=1.11.0 in /usr/local/lib/python3.8/dist-packages (from tensorflow<3,>=2.10.0->tensorflowjs) (1.15.0)\n",
            "Requirement already satisfied: pandas in /usr/local/lib/python3.8/dist-packages (from tensorflow-decision-forests>=1.0.1->tensorflowjs) (1.3.5)\n",
            "Requirement already satisfied: wheel in /usr/local/lib/python3.8/dist-packages (from tensorflow-decision-forests>=1.0.1->tensorflowjs) (0.38.4)\n",
            "Collecting wurlitzer\n",
            "  Downloading wurlitzer-3.0.3-py3-none-any.whl (7.3 kB)\n",
            "Collecting markdown-it-py<3.0.0,>=2.2.0\n",
            "  Downloading markdown_it_py-2.2.0-py3-none-any.whl (84 kB)\n",
            "\u001b[2K     \u001b[90m━━━━━━━━━━━━━━━━━━━━━━━━━━━━━━━━━━━━━━━━\u001b[0m \u001b[32m84.5/84.5 KB\u001b[0m \u001b[31m12.5 MB/s\u001b[0m eta \u001b[36m0:00:00\u001b[0m\n",
            "\u001b[?25hCollecting pygments<3.0.0,>=2.13.0\n",
            "  Downloading Pygments-2.14.0-py3-none-any.whl (1.1 MB)\n",
            "\u001b[2K     \u001b[90m━━━━━━━━━━━━━━━━━━━━━━━━━━━━━━━━━━━━━━━━\u001b[0m \u001b[32m1.1/1.1 MB\u001b[0m \u001b[31m82.9 MB/s\u001b[0m eta \u001b[36m0:00:00\u001b[0m\n",
            "\u001b[?25hRequirement already satisfied: markdown>=2.6.8 in /usr/local/lib/python3.8/dist-packages (from tensorboard<2.12,>=2.11->tensorflow<3,>=2.10.0->tensorflowjs) (3.4.1)\n",
            "Requirement already satisfied: tensorboard-data-server<0.7.0,>=0.6.0 in /usr/local/lib/python3.8/dist-packages (from tensorboard<2.12,>=2.11->tensorflow<3,>=2.10.0->tensorflowjs) (0.6.1)\n",
            "Requirement already satisfied: werkzeug>=1.0.1 in /usr/local/lib/python3.8/dist-packages (from tensorboard<2.12,>=2.11->tensorflow<3,>=2.10.0->tensorflowjs) (2.2.3)\n",
            "Requirement already satisfied: google-auth-oauthlib<0.5,>=0.4.1 in /usr/local/lib/python3.8/dist-packages (from tensorboard<2.12,>=2.11->tensorflow<3,>=2.10.0->tensorflowjs) (0.4.6)\n",
            "Requirement already satisfied: requests<3,>=2.21.0 in /usr/local/lib/python3.8/dist-packages (from tensorboard<2.12,>=2.11->tensorflow<3,>=2.10.0->tensorflowjs) (2.25.1)\n",
            "Requirement already satisfied: google-auth<3,>=1.6.3 in /usr/local/lib/python3.8/dist-packages (from tensorboard<2.12,>=2.11->tensorflow<3,>=2.10.0->tensorflowjs) (2.16.1)\n",
            "Requirement already satisfied: tensorboard-plugin-wit>=1.6.0 in /usr/local/lib/python3.8/dist-packages (from tensorboard<2.12,>=2.11->tensorflow<3,>=2.10.0->tensorflowjs) (1.8.1)\n",
            "Requirement already satisfied: cycler>=0.10 in /usr/local/lib/python3.8/dist-packages (from matplotlib->flax>=0.6.2->tensorflowjs) (0.11.0)\n",
            "Requirement already satisfied: fonttools>=4.22.0 in /usr/local/lib/python3.8/dist-packages (from matplotlib->flax>=0.6.2->tensorflowjs) (4.38.0)\n",
            "Requirement already satisfied: pillow>=6.2.0 in /usr/local/lib/python3.8/dist-packages (from matplotlib->flax>=0.6.2->tensorflowjs) (8.4.0)\n",
            "Requirement already satisfied: python-dateutil>=2.7 in /usr/local/lib/python3.8/dist-packages (from matplotlib->flax>=0.6.2->tensorflowjs) (2.8.2)\n",
            "Requirement already satisfied: kiwisolver>=1.0.1 in /usr/local/lib/python3.8/dist-packages (from matplotlib->flax>=0.6.2->tensorflowjs) (1.4.4)\n",
            "Collecting chex>=0.1.5\n",
            "  Downloading chex-0.1.6-py3-none-any.whl (87 kB)\n",
            "\u001b[2K     \u001b[90m━━━━━━━━━━━━━━━━━━━━━━━━━━━━━━━━━━━━━━━━\u001b[0m \u001b[32m87.9/87.9 KB\u001b[0m \u001b[31m12.1 MB/s\u001b[0m eta \u001b[36m0:00:00\u001b[0m\n",
            "\u001b[?25hRequirement already satisfied: jaxlib>=0.1.37 in /usr/local/lib/python3.8/dist-packages (from optax->flax>=0.6.2->tensorflowjs) (0.4.4+cuda11.cudnn82)\n",
            "Requirement already satisfied: etils in /usr/local/lib/python3.8/dist-packages (from orbax->flax>=0.6.2->tensorflowjs) (1.0.0)\n",
            "Collecting cached_property\n",
            "  Downloading cached_property-1.5.2-py2.py3-none-any.whl (7.6 kB)\n",
            "Requirement already satisfied: pytz>=2017.3 in /usr/local/lib/python3.8/dist-packages (from pandas->tensorflow-decision-forests>=1.0.1->tensorflowjs) (2022.7.1)\n",
            "Requirement already satisfied: dm-tree>=0.1.5 in /usr/local/lib/python3.8/dist-packages (from chex>=0.1.5->optax->flax>=0.6.2->tensorflowjs) (0.1.8)\n",
            "Requirement already satisfied: toolz>=0.9.0 in /usr/local/lib/python3.8/dist-packages (from chex>=0.1.5->optax->flax>=0.6.2->tensorflowjs) (0.12.0)\n",
            "Requirement already satisfied: cachetools<6.0,>=2.0.0 in /usr/local/lib/python3.8/dist-packages (from google-auth<3,>=1.6.3->tensorboard<2.12,>=2.11->tensorflow<3,>=2.10.0->tensorflowjs) (5.3.0)\n",
            "Requirement already satisfied: rsa<5,>=3.1.4 in /usr/local/lib/python3.8/dist-packages (from google-auth<3,>=1.6.3->tensorboard<2.12,>=2.11->tensorflow<3,>=2.10.0->tensorflowjs) (4.9)\n",
            "Requirement already satisfied: pyasn1-modules>=0.2.1 in /usr/local/lib/python3.8/dist-packages (from google-auth<3,>=1.6.3->tensorboard<2.12,>=2.11->tensorflow<3,>=2.10.0->tensorflowjs) (0.2.8)\n",
            "Requirement already satisfied: requests-oauthlib>=0.7.0 in /usr/local/lib/python3.8/dist-packages (from google-auth-oauthlib<0.5,>=0.4.1->tensorboard<2.12,>=2.11->tensorflow<3,>=2.10.0->tensorflowjs) (1.3.1)\n",
            "Requirement already satisfied: importlib-metadata>=4.4 in /usr/local/lib/python3.8/dist-packages (from markdown>=2.6.8->tensorboard<2.12,>=2.11->tensorflow<3,>=2.10.0->tensorflowjs) (6.0.0)\n",
            "Collecting mdurl~=0.1\n",
            "  Downloading mdurl-0.1.2-py3-none-any.whl (10.0 kB)\n",
            "Requirement already satisfied: urllib3<1.27,>=1.21.1 in /usr/local/lib/python3.8/dist-packages (from requests<3,>=2.21.0->tensorboard<2.12,>=2.11->tensorflow<3,>=2.10.0->tensorflowjs) (1.26.14)\n",
            "Requirement already satisfied: chardet<5,>=3.0.2 in /usr/local/lib/python3.8/dist-packages (from requests<3,>=2.21.0->tensorboard<2.12,>=2.11->tensorflow<3,>=2.10.0->tensorflowjs) (4.0.0)\n",
            "Requirement already satisfied: certifi>=2017.4.17 in /usr/local/lib/python3.8/dist-packages (from requests<3,>=2.21.0->tensorboard<2.12,>=2.11->tensorflow<3,>=2.10.0->tensorflowjs) (2022.12.7)\n",
            "Requirement already satisfied: idna<3,>=2.5 in /usr/local/lib/python3.8/dist-packages (from requests<3,>=2.21.0->tensorboard<2.12,>=2.11->tensorflow<3,>=2.10.0->tensorflowjs) (2.10)\n",
            "Requirement already satisfied: MarkupSafe>=2.1.1 in /usr/local/lib/python3.8/dist-packages (from werkzeug>=1.0.1->tensorboard<2.12,>=2.11->tensorflow<3,>=2.10.0->tensorflowjs) (2.1.2)\n",
            "Requirement already satisfied: pyasn1<0.5.0,>=0.4.6 in /usr/local/lib/python3.8/dist-packages (from pyasn1-modules>=0.2.1->google-auth<3,>=1.6.3->tensorboard<2.12,>=2.11->tensorflow<3,>=2.10.0->tensorflowjs) (0.4.8)\n",
            "Requirement already satisfied: oauthlib>=3.0.0 in /usr/local/lib/python3.8/dist-packages (from requests-oauthlib>=0.7.0->google-auth-oauthlib<0.5,>=0.4.1->tensorboard<2.12,>=2.11->tensorflow<3,>=2.10.0->tensorflowjs) (3.2.2)\n",
            "Installing collected packages: cached_property, wurlitzer, tensorstore, pygments, packaging, mdurl, markdown-it-py, rich, chex, optax, tensorflow-decision-forests, orbax, flax, tensorflowjs\n",
            "  Attempting uninstall: pygments\n",
            "    Found existing installation: Pygments 2.6.1\n",
            "    Uninstalling Pygments-2.6.1:\n",
            "      Successfully uninstalled Pygments-2.6.1\n",
            "  Attempting uninstall: packaging\n",
            "    Found existing installation: packaging 23.0\n",
            "    Uninstalling packaging-23.0:\n",
            "      Successfully uninstalled packaging-23.0\n",
            "\u001b[31mERROR: pip's dependency resolver does not currently take into account all the packages that are installed. This behaviour is the source of the following dependency conflicts.\n",
            "ipython 7.9.0 requires jedi>=0.10, which is not installed.\n",
            "xarray 2022.12.0 requires packaging>=21.3, but you have packaging 20.9 which is incompatible.\n",
            "statsmodels 0.13.5 requires packaging>=21.3, but you have packaging 20.9 which is incompatible.\u001b[0m\u001b[31m\n",
            "\u001b[0mSuccessfully installed cached_property-1.5.2 chex-0.1.6 flax-0.6.6 markdown-it-py-2.2.0 mdurl-0.1.2 optax-0.1.4 orbax-0.1.3 packaging-20.9 pygments-2.14.0 rich-13.3.2 tensorflow-decision-forests-1.2.0 tensorflowjs-4.2.0 tensorstore-0.1.33 wurlitzer-3.0.3\n"
          ]
        }
      ]
    },
    {
      "cell_type": "code",
      "source": [
        "!sudo tensorflowjs_converter"
      ],
      "metadata": {
        "colab": {
          "base_uri": "https://localhost:8080/"
        },
        "id": "x6tH9SFS-9da",
        "outputId": "fc91424f-5fe4-47e5-8437-13bdac9e17f1"
      },
      "execution_count": null,
      "outputs": [
        {
          "output_type": "stream",
          "name": "stdout",
          "text": [
            "2023-03-04 23:36:34.719591: I tensorflow/core/platform/cpu_feature_guard.cc:193] This TensorFlow binary is optimized with oneAPI Deep Neural Network Library (oneDNN) to use the following CPU instructions in performance-critical operations:  AVX2 FMA\n",
            "To enable them in other operations, rebuild TensorFlow with the appropriate compiler flags.\n",
            "2023-03-04 23:36:35.862252: W tensorflow/compiler/xla/stream_executor/platform/default/dso_loader.cc:64] Could not load dynamic library 'libnvinfer.so.7'; dlerror: libnvinfer.so.7: cannot open shared object file: No such file or directory\n",
            "2023-03-04 23:36:35.862324: W tensorflow/compiler/xla/stream_executor/platform/default/dso_loader.cc:64] Could not load dynamic library 'libnvinfer_plugin.so.7'; dlerror: libnvinfer_plugin.so.7: cannot open shared object file: No such file or directory\n",
            "2023-03-04 23:36:35.862336: W tensorflow/compiler/tf2tensorrt/utils/py_utils.cc:38] TF-TRT Warning: Cannot dlopen some TensorRT libraries. If you would like to use Nvidia GPU with TensorRT, please make sure the missing libraries mentioned above are installed properly.\n",
            "Traceback (most recent call last):\n",
            "  File \"/usr/local/bin/tensorflowjs_converter\", line 8, in <module>\n",
            "    sys.exit(pip_main())\n",
            "  File \"/usr/local/lib/python3.8/dist-packages/tensorflowjs/converters/converter.py\", line 827, in pip_main\n",
            "    main([' '.join(sys.argv[1:])])\n",
            "  File \"/usr/local/lib/python3.8/dist-packages/tensorflowjs/converters/converter.py\", line 831, in main\n",
            "    convert(argv[0].split(' '))\n",
            "  File \"/usr/local/lib/python3.8/dist-packages/tensorflowjs/converters/converter.py\", line 762, in convert\n",
            "    raise ValueError(\n",
            "ValueError: Missing input_path argument. For usage, use the --help flag.\n"
          ]
        }
      ]
    },
    {
      "cell_type": "code",
      "source": [
        "!tensorflowjs_converter --input_format=keras '/content/drive/MyDrive/Model Information/resnet50.h5 copy/model.h5' \"/content/drive/MyDrive/json\""
      ],
      "metadata": {
        "colab": {
          "base_uri": "https://localhost:8080/"
        },
        "id": "zrBtfj60_BFo",
        "outputId": "329c6b45-5337-40d4-c259-94e371a403a7"
      },
      "execution_count": null,
      "outputs": [
        {
          "output_type": "stream",
          "name": "stdout",
          "text": [
            "2023-03-04 23:42:34.064112: I tensorflow/core/platform/cpu_feature_guard.cc:193] This TensorFlow binary is optimized with oneAPI Deep Neural Network Library (oneDNN) to use the following CPU instructions in performance-critical operations:  AVX2 FMA\n",
            "To enable them in other operations, rebuild TensorFlow with the appropriate compiler flags.\n",
            "2023-03-04 23:42:34.881937: W tensorflow/compiler/xla/stream_executor/platform/default/dso_loader.cc:64] Could not load dynamic library 'libnvinfer.so.7'; dlerror: libnvinfer.so.7: cannot open shared object file: No such file or directory; LD_LIBRARY_PATH: /usr/local/nvidia/lib:/usr/local/nvidia/lib64\n",
            "2023-03-04 23:42:34.882018: W tensorflow/compiler/xla/stream_executor/platform/default/dso_loader.cc:64] Could not load dynamic library 'libnvinfer_plugin.so.7'; dlerror: libnvinfer_plugin.so.7: cannot open shared object file: No such file or directory; LD_LIBRARY_PATH: /usr/local/nvidia/lib:/usr/local/nvidia/lib64\n",
            "2023-03-04 23:42:34.882033: W tensorflow/compiler/tf2tensorrt/utils/py_utils.cc:38] TF-TRT Warning: Cannot dlopen some TensorRT libraries. If you would like to use Nvidia GPU with TensorRT, please make sure the missing libraries mentioned above are installed properly.\n",
            "usage: TensorFlow.js model converters.\n",
            "       [-h]\n",
            "       [--input_format {tf_saved_model,keras,keras_saved_model,tf_hub,tfjs_layers_model,tf_frozen_model}]\n",
            "       [--output_format {tfjs_graph_model,keras,tfjs_layers_model,keras_saved_model}]\n",
            "       [--signature_name SIGNATURE_NAME]\n",
            "       [--saved_model_tags SAVED_MODEL_TAGS]\n",
            "       [--quantize_float16 [QUANTIZE_FLOAT16]]\n",
            "       [--quantize_uint8 [QUANTIZE_UINT8]]\n",
            "       [--quantize_uint16 [QUANTIZE_UINT16]]\n",
            "       [--quantization_bytes {1,2}]\n",
            "       [--split_weights_by_layer]\n",
            "       [--version]\n",
            "       [--skip_op_check]\n",
            "       [--strip_debug_ops STRIP_DEBUG_OPS]\n",
            "       [--use_structured_outputs_names USE_STRUCTURED_OUTPUTS_NAMES]\n",
            "       [--weight_shard_size_bytes WEIGHT_SHARD_SIZE_BYTES]\n",
            "       [--output_node_names OUTPUT_NODE_NAMES]\n",
            "       [--control_flow_v2 CONTROL_FLOW_V2]\n",
            "       [--experiments EXPERIMENTS]\n",
            "       [--metadata METADATA]\n",
            "       [input_path]\n",
            "       [output_path]\n",
            "TensorFlow.js model converters.: error: unrecognized arguments: copy/model.h5 /content/drive/MyDrive/json\n"
          ]
        }
      ]
    },
    {
      "cell_type": "code",
      "source": [
        "!pip install gradio"
      ],
      "metadata": {
        "colab": {
          "base_uri": "https://localhost:8080/"
        },
        "id": "6YcYK-0A8nf6",
        "outputId": "5578ae35-be58-4657-f667-c5556e46fc5e"
      },
      "execution_count": null,
      "outputs": [
        {
          "output_type": "stream",
          "name": "stdout",
          "text": [
            "Looking in indexes: https://pypi.org/simple, https://us-python.pkg.dev/colab-wheels/public/simple/\n",
            "Collecting gradio\n",
            "  Downloading gradio-3.20.0-py3-none-any.whl (14.3 MB)\n",
            "\u001b[2K     \u001b[90m━━━━━━━━━━━━━━━━━━━━━━━━━━━━━━━━━━━━━━━━\u001b[0m \u001b[32m14.3/14.3 MB\u001b[0m \u001b[31m46.6 MB/s\u001b[0m eta \u001b[36m0:00:00\u001b[0m\n",
            "\u001b[?25hCollecting aiofiles\n",
            "  Downloading aiofiles-23.1.0-py3-none-any.whl (14 kB)\n",
            "Requirement already satisfied: aiohttp in /usr/local/lib/python3.8/dist-packages (from gradio) (3.8.4)\n",
            "Requirement already satisfied: markupsafe in /usr/local/lib/python3.8/dist-packages (from gradio) (2.1.2)\n",
            "Requirement already satisfied: pandas in /usr/local/lib/python3.8/dist-packages (from gradio) (1.3.5)\n",
            "Collecting python-multipart\n",
            "  Downloading python_multipart-0.0.6-py3-none-any.whl (45 kB)\n",
            "\u001b[2K     \u001b[90m━━━━━━━━━━━━━━━━━━━━━━━━━━━━━━━━━━━━━━━━\u001b[0m \u001b[32m45.7/45.7 KB\u001b[0m \u001b[31m3.8 MB/s\u001b[0m eta \u001b[36m0:00:00\u001b[0m\n",
            "\u001b[?25hRequirement already satisfied: pyyaml in /usr/local/lib/python3.8/dist-packages (from gradio) (6.0)\n",
            "Requirement already satisfied: requests in /usr/local/lib/python3.8/dist-packages (from gradio) (2.25.1)\n",
            "Requirement already satisfied: altair>=4.2.0 in /usr/local/lib/python3.8/dist-packages (from gradio) (4.2.2)\n",
            "Collecting mdit-py-plugins<=0.3.3\n",
            "  Downloading mdit_py_plugins-0.3.3-py3-none-any.whl (50 kB)\n",
            "\u001b[2K     \u001b[90m━━━━━━━━━━━━━━━━━━━━━━━━━━━━━━━━━━━━━━━━\u001b[0m \u001b[32m50.5/50.5 KB\u001b[0m \u001b[31m4.3 MB/s\u001b[0m eta \u001b[36m0:00:00\u001b[0m\n",
            "\u001b[?25hCollecting fastapi\n",
            "  Downloading fastapi-0.92.0-py3-none-any.whl (56 kB)\n",
            "\u001b[2K     \u001b[90m━━━━━━━━━━━━━━━━━━━━━━━━━━━━━━━━━━━━━━━━\u001b[0m \u001b[32m56.2/56.2 KB\u001b[0m \u001b[31m2.6 MB/s\u001b[0m eta \u001b[36m0:00:00\u001b[0m\n",
            "\u001b[?25hCollecting pycryptodome\n",
            "  Downloading pycryptodome-3.17-cp35-abi3-manylinux_2_17_x86_64.manylinux2014_x86_64.whl (2.1 MB)\n",
            "\u001b[2K     \u001b[90m━━━━━━━━━━━━━━━━━━━━━━━━━━━━━━━━━━━━━━━━\u001b[0m \u001b[32m2.1/2.1 MB\u001b[0m \u001b[31m46.6 MB/s\u001b[0m eta \u001b[36m0:00:00\u001b[0m\n",
            "\u001b[?25hCollecting ffmpy\n",
            "  Downloading ffmpy-0.3.0.tar.gz (4.8 kB)\n",
            "  Preparing metadata (setup.py) ... \u001b[?25l\u001b[?25hdone\n",
            "Collecting httpx\n",
            "  Downloading httpx-0.23.3-py3-none-any.whl (71 kB)\n",
            "\u001b[2K     \u001b[90m━━━━━━━━━━━━━━━━━━━━━━━━━━━━━━━━━━━━━━━━\u001b[0m \u001b[32m71.5/71.5 KB\u001b[0m \u001b[31m4.1 MB/s\u001b[0m eta \u001b[36m0:00:00\u001b[0m\n",
            "\u001b[?25hRequirement already satisfied: typing-extensions in /usr/local/lib/python3.8/dist-packages (from gradio) (4.5.0)\n",
            "Requirement already satisfied: matplotlib in /usr/local/lib/python3.8/dist-packages (from gradio) (3.5.3)\n",
            "Requirement already satisfied: numpy in /usr/local/lib/python3.8/dist-packages (from gradio) (1.22.4)\n",
            "Collecting orjson\n",
            "  Downloading orjson-3.8.7-cp38-cp38-manylinux_2_28_x86_64.whl (140 kB)\n",
            "\u001b[2K     \u001b[90m━━━━━━━━━━━━━━━━━━━━━━━━━━━━━━━━━━━━━━━\u001b[0m \u001b[32m140.7/140.7 KB\u001b[0m \u001b[31m7.6 MB/s\u001b[0m eta \u001b[36m0:00:00\u001b[0m\n",
            "\u001b[?25hRequirement already satisfied: pydantic in /usr/local/lib/python3.8/dist-packages (from gradio) (1.10.5)\n",
            "Collecting pydub\n",
            "  Downloading pydub-0.25.1-py2.py3-none-any.whl (32 kB)\n",
            "Requirement already satisfied: fsspec in /usr/local/lib/python3.8/dist-packages (from gradio) (2023.1.0)\n",
            "Collecting websockets>=10.0\n",
            "  Downloading websockets-10.4-cp38-cp38-manylinux_2_5_x86_64.manylinux1_x86_64.manylinux_2_17_x86_64.manylinux2014_x86_64.whl (106 kB)\n",
            "\u001b[2K     \u001b[90m━━━━━━━━━━━━━━━━━━━━━━━━━━━━━━━━━━━━━━━\u001b[0m \u001b[32m107.0/107.0 KB\u001b[0m \u001b[31m7.8 MB/s\u001b[0m eta \u001b[36m0:00:00\u001b[0m\n",
            "\u001b[?25hCollecting uvicorn\n",
            "  Downloading uvicorn-0.20.0-py3-none-any.whl (56 kB)\n",
            "\u001b[2K     \u001b[90m━━━━━━━━━━━━━━━━━━━━━━━━━━━━━━━━━━━━━━━━\u001b[0m \u001b[32m56.9/56.9 KB\u001b[0m \u001b[31m3.2 MB/s\u001b[0m eta \u001b[36m0:00:00\u001b[0m\n",
            "\u001b[?25hCollecting markdown-it-py[linkify]>=2.0.0\n",
            "  Downloading markdown_it_py-2.2.0-py3-none-any.whl (84 kB)\n",
            "\u001b[2K     \u001b[90m━━━━━━━━━━━━━━━━━━━━━━━━━━━━━━━━━━━━━━━\u001b[0m \u001b[32m84.5/84.5 KB\u001b[0m \u001b[31m781.0 kB/s\u001b[0m eta \u001b[36m0:00:00\u001b[0m\n",
            "\u001b[?25hRequirement already satisfied: jinja2 in /usr/local/lib/python3.8/dist-packages (from gradio) (3.1.2)\n",
            "Requirement already satisfied: pillow in /usr/local/lib/python3.8/dist-packages (from gradio) (8.4.0)\n",
            "Requirement already satisfied: jsonschema>=3.0 in /usr/local/lib/python3.8/dist-packages (from altair>=4.2.0->gradio) (4.3.3)\n",
            "Requirement already satisfied: entrypoints in /usr/local/lib/python3.8/dist-packages (from altair>=4.2.0->gradio) (0.4)\n",
            "Requirement already satisfied: toolz in /usr/local/lib/python3.8/dist-packages (from altair>=4.2.0->gradio) (0.12.0)\n",
            "Collecting mdurl~=0.1\n",
            "  Downloading mdurl-0.1.2-py3-none-any.whl (10.0 kB)\n",
            "Collecting linkify-it-py<3,>=1\n",
            "  Downloading linkify_it_py-2.0.0-py3-none-any.whl (19 kB)\n",
            "Requirement already satisfied: python-dateutil>=2.7.3 in /usr/local/lib/python3.8/dist-packages (from pandas->gradio) (2.8.2)\n",
            "Requirement already satisfied: pytz>=2017.3 in /usr/local/lib/python3.8/dist-packages (from pandas->gradio) (2022.7.1)\n",
            "Requirement already satisfied: charset-normalizer<4.0,>=2.0 in /usr/local/lib/python3.8/dist-packages (from aiohttp->gradio) (3.0.1)\n",
            "Requirement already satisfied: frozenlist>=1.1.1 in /usr/local/lib/python3.8/dist-packages (from aiohttp->gradio) (1.3.3)\n",
            "Requirement already satisfied: yarl<2.0,>=1.0 in /usr/local/lib/python3.8/dist-packages (from aiohttp->gradio) (1.8.2)\n",
            "Requirement already satisfied: aiosignal>=1.1.2 in /usr/local/lib/python3.8/dist-packages (from aiohttp->gradio) (1.3.1)\n",
            "Requirement already satisfied: async-timeout<5.0,>=4.0.0a3 in /usr/local/lib/python3.8/dist-packages (from aiohttp->gradio) (4.0.2)\n",
            "Requirement already satisfied: attrs>=17.3.0 in /usr/local/lib/python3.8/dist-packages (from aiohttp->gradio) (22.2.0)\n",
            "Requirement already satisfied: multidict<7.0,>=4.5 in /usr/local/lib/python3.8/dist-packages (from aiohttp->gradio) (6.0.4)\n",
            "Collecting starlette<0.26.0,>=0.25.0\n",
            "  Downloading starlette-0.25.0-py3-none-any.whl (66 kB)\n",
            "\u001b[2K     \u001b[90m━━━━━━━━━━━━━━━━━━━━━━━━━━━━━━━━━━━━━━━━\u001b[0m \u001b[32m66.4/66.4 KB\u001b[0m \u001b[31m7.8 MB/s\u001b[0m eta \u001b[36m0:00:00\u001b[0m\n",
            "\u001b[?25hCollecting rfc3986[idna2008]<2,>=1.3\n",
            "  Downloading rfc3986-1.5.0-py2.py3-none-any.whl (31 kB)\n",
            "Collecting httpcore<0.17.0,>=0.15.0\n",
            "  Downloading httpcore-0.16.3-py3-none-any.whl (69 kB)\n",
            "\u001b[2K     \u001b[90m━━━━━━━━━━━━━━━━━━━━━━━━━━━━━━━━━━━━━━━━\u001b[0m \u001b[32m69.6/69.6 KB\u001b[0m \u001b[31m5.2 MB/s\u001b[0m eta \u001b[36m0:00:00\u001b[0m\n",
            "\u001b[?25hRequirement already satisfied: certifi in /usr/local/lib/python3.8/dist-packages (from httpx->gradio) (2022.12.7)\n",
            "Collecting sniffio\n",
            "  Downloading sniffio-1.3.0-py3-none-any.whl (10 kB)\n",
            "Requirement already satisfied: packaging>=20.0 in /usr/local/lib/python3.8/dist-packages (from matplotlib->gradio) (23.0)\n",
            "Requirement already satisfied: fonttools>=4.22.0 in /usr/local/lib/python3.8/dist-packages (from matplotlib->gradio) (4.38.0)\n",
            "Requirement already satisfied: kiwisolver>=1.0.1 in /usr/local/lib/python3.8/dist-packages (from matplotlib->gradio) (1.4.4)\n",
            "Requirement already satisfied: pyparsing>=2.2.1 in /usr/local/lib/python3.8/dist-packages (from matplotlib->gradio) (3.0.9)\n",
            "Requirement already satisfied: cycler>=0.10 in /usr/local/lib/python3.8/dist-packages (from matplotlib->gradio) (0.11.0)\n",
            "Requirement already satisfied: urllib3<1.27,>=1.21.1 in /usr/local/lib/python3.8/dist-packages (from requests->gradio) (1.26.14)\n",
            "Requirement already satisfied: idna<3,>=2.5 in /usr/local/lib/python3.8/dist-packages (from requests->gradio) (2.10)\n",
            "Requirement already satisfied: chardet<5,>=3.0.2 in /usr/local/lib/python3.8/dist-packages (from requests->gradio) (4.0.0)\n",
            "Requirement already satisfied: click>=7.0 in /usr/local/lib/python3.8/dist-packages (from uvicorn->gradio) (8.1.3)\n",
            "Collecting h11>=0.8\n",
            "  Downloading h11-0.14.0-py3-none-any.whl (58 kB)\n",
            "\u001b[2K     \u001b[90m━━━━━━━━━━━━━━━━━━━━━━━━━━━━━━━━━━━━━━━━\u001b[0m \u001b[32m58.3/58.3 KB\u001b[0m \u001b[31m7.0 MB/s\u001b[0m eta \u001b[36m0:00:00\u001b[0m\n",
            "\u001b[?25hCollecting anyio<5.0,>=3.0\n",
            "  Downloading anyio-3.6.2-py3-none-any.whl (80 kB)\n",
            "\u001b[2K     \u001b[90m━━━━━━━━━━━━━━━━━━━━━━━━━━━━━━━━━━━━━━━━\u001b[0m \u001b[32m80.6/80.6 KB\u001b[0m \u001b[31m9.3 MB/s\u001b[0m eta \u001b[36m0:00:00\u001b[0m\n",
            "\u001b[?25hRequirement already satisfied: pyrsistent!=0.17.0,!=0.17.1,!=0.17.2,>=0.14.0 in /usr/local/lib/python3.8/dist-packages (from jsonschema>=3.0->altair>=4.2.0->gradio) (0.19.3)\n",
            "Requirement already satisfied: importlib-resources>=1.4.0 in /usr/local/lib/python3.8/dist-packages (from jsonschema>=3.0->altair>=4.2.0->gradio) (5.12.0)\n",
            "Collecting uc-micro-py\n",
            "  Downloading uc_micro_py-1.0.1-py3-none-any.whl (6.2 kB)\n",
            "Requirement already satisfied: six>=1.5 in /usr/local/lib/python3.8/dist-packages (from python-dateutil>=2.7.3->pandas->gradio) (1.15.0)\n",
            "Requirement already satisfied: zipp>=3.1.0 in /usr/local/lib/python3.8/dist-packages (from importlib-resources>=1.4.0->jsonschema>=3.0->altair>=4.2.0->gradio) (3.15.0)\n",
            "Building wheels for collected packages: ffmpy\n",
            "  Building wheel for ffmpy (setup.py) ... \u001b[?25l\u001b[?25hdone\n",
            "  Created wheel for ffmpy: filename=ffmpy-0.3.0-py3-none-any.whl size=4711 sha256=49c328b5c60e6f241b69ebd911fbe3f4fb25bc83be285d06a44b588847867c51\n",
            "  Stored in directory: /root/.cache/pip/wheels/ff/5b/59/913b443e7369dc04b61f607a746b6f7d83fb65e2e19fcc958d\n",
            "Successfully built ffmpy\n",
            "Installing collected packages: rfc3986, pydub, ffmpy, websockets, uc-micro-py, sniffio, python-multipart, pycryptodome, orjson, mdurl, h11, aiofiles, uvicorn, markdown-it-py, linkify-it-py, anyio, starlette, mdit-py-plugins, httpcore, httpx, fastapi, gradio\n",
            "Successfully installed aiofiles-23.1.0 anyio-3.6.2 fastapi-0.92.0 ffmpy-0.3.0 gradio-3.20.0 h11-0.14.0 httpcore-0.16.3 httpx-0.23.3 linkify-it-py-2.0.0 markdown-it-py-2.2.0 mdit-py-plugins-0.3.3 mdurl-0.1.2 orjson-3.8.7 pycryptodome-3.17 pydub-0.25.1 python-multipart-0.0.6 rfc3986-1.5.0 sniffio-1.3.0 starlette-0.25.0 uc-micro-py-1.0.1 uvicorn-0.20.0 websockets-10.4\n"
          ]
        }
      ]
    },
    {
      "cell_type": "code",
      "source": [
        "import gradio as gr\n",
        "import tensorflow as tf\n",
        "import numpy as np\n",
        "import requests\n",
        "from tensorflow.keras.applications.resnet50 import ResNet50\n",
        "from tensorflow.keras.applications.resnet50 import preprocess_input\n",
        "from tensorflow.keras.models import load_model"
      ],
      "metadata": {
        "id": "ctaH6Umy87Vr"
      },
      "execution_count": null,
      "outputs": []
    },
    {
      "cell_type": "code",
      "source": [
        "model = load_model(\"resnet50.h5\")"
      ],
      "metadata": {
        "id": "_POkByJ8-Iuv"
      },
      "execution_count": null,
      "outputs": []
    },
    {
      "cell_type": "code",
      "source": [
        "class_names = ['mpox','herpes zoster'] # categories"
      ],
      "metadata": {
        "id": "gEy51NTcGEb8"
      },
      "execution_count": null,
      "outputs": []
    },
    {
      "cell_type": "code",
      "source": [
        "def predict_input_image(img):\n",
        "  img=img.reshape(224,224,3)\n",
        "  prediction=model.predict(img)[0]\n",
        "  return {class_names[i]: float(prediction[i]) for i in range(2)}"
      ],
      "metadata": {
        "id": "Wk9ooNFXGRYZ"
      },
      "execution_count": null,
      "outputs": []
    },
    {
      "cell_type": "code",
      "source": [
        "image = gr.inputs.Image(shape = (224, 224)) # initializing the input component\n",
        "label = gr.outputs.Label(num_top_classes = 2) # initializing the output component"
      ],
      "metadata": {
        "colab": {
          "base_uri": "https://localhost:8080/"
        },
        "id": "Sglh5BfhGXJR",
        "outputId": "c98b5d12-a5d3-432c-c3b0-30db7d979450"
      },
      "execution_count": null,
      "outputs": [
        {
          "output_type": "stream",
          "name": "stderr",
          "text": [
            "/usr/local/lib/python3.8/dist-packages/gradio/inputs.py:257: UserWarning: Usage of gradio.inputs is deprecated, and will not be supported in the future, please import your component from gradio.components\n",
            "  warnings.warn(\n",
            "/usr/local/lib/python3.8/dist-packages/gradio/deprecation.py:40: UserWarning: `optional` parameter is deprecated, and it has no effect\n",
            "  warnings.warn(value)\n",
            "/usr/local/lib/python3.8/dist-packages/gradio/outputs.py:197: UserWarning: Usage of gradio.outputs is deprecated, and will not be supported in the future, please import your components from gradio.components\n",
            "  warnings.warn(\n",
            "/usr/local/lib/python3.8/dist-packages/gradio/deprecation.py:40: UserWarning: The 'type' parameter has been deprecated. Use the Number component instead.\n",
            "  warnings.warn(value)\n"
          ]
        }
      ]
    },
    {
      "cell_type": "code",
      "source": [
        "image = gr.inputs.Image(shape=(224,224))\n",
        "label = gr.outputs.Label(num_top_classes=2)\n",
        "\n",
        "gr.Interface(fn=predict_input_image, inputs=image, outputs=label,interpretation='default').launch(share=True)"
      ],
      "metadata": {
        "colab": {
          "base_uri": "https://localhost:8080/",
          "height": 791
        },
        "id": "tUIpW3--Gik-",
        "outputId": "3b21fac0-09f1-4d3a-be35-7bbf66f017e3"
      },
      "execution_count": null,
      "outputs": [
        {
          "output_type": "stream",
          "name": "stderr",
          "text": [
            "/usr/local/lib/python3.8/dist-packages/gradio/inputs.py:257: UserWarning: Usage of gradio.inputs is deprecated, and will not be supported in the future, please import your component from gradio.components\n",
            "  warnings.warn(\n",
            "/usr/local/lib/python3.8/dist-packages/gradio/deprecation.py:40: UserWarning: `optional` parameter is deprecated, and it has no effect\n",
            "  warnings.warn(value)\n",
            "/usr/local/lib/python3.8/dist-packages/gradio/outputs.py:197: UserWarning: Usage of gradio.outputs is deprecated, and will not be supported in the future, please import your components from gradio.components\n",
            "  warnings.warn(\n",
            "/usr/local/lib/python3.8/dist-packages/gradio/deprecation.py:40: UserWarning: The 'type' parameter has been deprecated. Use the Number component instead.\n",
            "  warnings.warn(value)\n"
          ]
        },
        {
          "output_type": "stream",
          "name": "stdout",
          "text": [
            "\n",
            "Thanks for being a Gradio user! If you have questions or feedback, please join our Discord server and chat with us: https://discord.gg/feTf9x3ZSB\n",
            "Colab notebook detected. To show errors in colab notebook, set debug=True in launch()\n",
            "Running on public URL: https://9dbc16c727e8be60a7.gradio.live\n",
            "\n",
            "This share link expires in 72 hours. For free permanent hosting and GPU upgrades (NEW!), check out Spaces: https://huggingface.co/spaces\n"
          ]
        },
        {
          "output_type": "display_data",
          "data": {
            "text/plain": [
              "<IPython.core.display.HTML object>"
            ],
            "text/html": [
              "<div><iframe src=\"https://9dbc16c727e8be60a7.gradio.live\" width=\"100%\" height=\"500\" allow=\"autoplay; camera; microphone; clipboard-read; clipboard-write;\" frameborder=\"0\" allowfullscreen></iframe></div>"
            ]
          },
          "metadata": {}
        },
        {
          "output_type": "execute_result",
          "data": {
            "text/plain": []
          },
          "metadata": {},
          "execution_count": 75
        }
      ]
    },
    {
      "cell_type": "code",
      "source": [
        "def predict_image(inp):\n",
        "  inp=inp.reshape((-1,224, 224,3))\n",
        "  prediction = model.predict(inp).tolist()[0]\n",
        "  class_names = [\"Monkeypox\", \"Herpes Zoster\"]\n",
        "  return {class_names[i]: float(prediction[i]) for i in range(2)}"
      ],
      "metadata": {
        "id": "F67m4-py9Hp0"
      },
      "execution_count": null,
      "outputs": []
    },
    {
      "cell_type": "code",
      "source": [
        "num_classes = 2"
      ],
      "metadata": {
        "id": "OAYuyL7NClQi"
      },
      "execution_count": null,
      "outputs": []
    },
    {
      "cell_type": "code",
      "source": [
        "image = gr.inputs.Image(shape=(224,224))\n",
        "label = gr.outputs.Label(num_top_classes=2)\n",
        "\n",
        "gr.Interface(fn=predict_image, inputs=image, outputs=label,interpretation='default').launch(share='True')\n",
        ""
      ],
      "metadata": {
        "colab": {
          "base_uri": "https://localhost:8080/",
          "height": 755
        },
        "id": "4CA-NuXe8qxj",
        "outputId": "72bfb88e-f8d6-429c-b05e-6629931007fd"
      },
      "execution_count": null,
      "outputs": [
        {
          "output_type": "stream",
          "name": "stderr",
          "text": [
            "/usr/local/lib/python3.8/dist-packages/gradio/inputs.py:257: UserWarning: Usage of gradio.inputs is deprecated, and will not be supported in the future, please import your component from gradio.components\n",
            "  warnings.warn(\n",
            "/usr/local/lib/python3.8/dist-packages/gradio/deprecation.py:40: UserWarning: `optional` parameter is deprecated, and it has no effect\n",
            "  warnings.warn(value)\n",
            "/usr/local/lib/python3.8/dist-packages/gradio/outputs.py:197: UserWarning: Usage of gradio.outputs is deprecated, and will not be supported in the future, please import your components from gradio.components\n",
            "  warnings.warn(\n",
            "/usr/local/lib/python3.8/dist-packages/gradio/deprecation.py:40: UserWarning: The 'type' parameter has been deprecated. Use the Number component instead.\n",
            "  warnings.warn(value)\n"
          ]
        },
        {
          "output_type": "stream",
          "name": "stdout",
          "text": [
            "Colab notebook detected. To show errors in colab notebook, set debug=True in launch()\n",
            "Running on public URL: https://a520fa4c8c973e2d57.gradio.live\n",
            "\n",
            "This share link expires in 72 hours. For free permanent hosting and GPU upgrades (NEW!), check out Spaces: https://huggingface.co/spaces\n"
          ]
        },
        {
          "output_type": "display_data",
          "data": {
            "text/plain": [
              "<IPython.core.display.HTML object>"
            ],
            "text/html": [
              "<div><iframe src=\"https://a520fa4c8c973e2d57.gradio.live\" width=\"100%\" height=\"500\" allow=\"autoplay; camera; microphone; clipboard-read; clipboard-write;\" frameborder=\"0\" allowfullscreen></iframe></div>"
            ]
          },
          "metadata": {}
        },
        {
          "output_type": "execute_result",
          "data": {
            "text/plain": []
          },
          "metadata": {},
          "execution_count": 37
        }
      ]
    }
  ]
}